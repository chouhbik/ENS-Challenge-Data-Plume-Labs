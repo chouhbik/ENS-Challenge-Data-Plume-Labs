{
 "cells": [
  {
   "cell_type": "markdown",
   "metadata": {},
   "source": [
    " #  <div style=\"text-align: center\">  Spatiotemporal PM10 concentration prediction </div> \n",
    "###  <div style=\"text-align: center\">by Plume Labs</div> \n",
    "<img src='https://plumelabs.com/plume-labs-logo.png' width=\"300\">\n",
    "<div style=\"text-align: center\"> <a href=\"https://challengedata.ens.fr/participants/challenges/7/\"> Challenge link </a></div> \n",
    "\n",
    "### <div style=\"text-align:center\"> Kernel By: <b> Kamal Chouhbi & Anas Cherradi</b></div>"
   ]
  },
  {
   "cell_type": "markdown",
   "metadata": {},
   "source": [
    " <a id=\"top\"></a> <br>\n",
    "## Notebook  Content\n",
    "1. [Introduction](#1)\n",
    "1. [Load packages](#2)\n",
    "    1. [import](#21)\n",
    "    1. [Setup](#22)\n",
    "    1. [Version](#23)\n",
    "1. [Problem Definition](#3)\n",
    "    1. [Problem Feature](#31)\n",
    "    1. [Aim](#32)\n",
    "    1. [Variables](#33)\n",
    "    1. [Evaluation](#34)\n",
    "1. [Exploratory Data Analysis(EDA)](#4)\n",
    "    1. [Data Collection](#41)\n",
    "    1. [Data Preprocessing](#42)\n",
    "    1. [Visualization](#43)\n",
    "1. [Process ML Models](#5)\n",
    "    1. [Linear Regression](#51)\n",
    "    1. [Ridge Model](#52)\n",
    "    1. [Lasso Model](#53)\n",
    "    1. [Gradient Boosting Regression](#54)\n",
    "    1. [Random Forest Regression](#55)\n",
    "    1. [Xgboost](#56)\n",
    "    1. [LGBM Regressor](#57)\n",
    "1. [Model Comparison](#6)\n",
    "1. [Blending + Submission](#7)"
   ]
  },
  {
   "cell_type": "markdown",
   "metadata": {},
   "source": [
    " <a id=\"1\"></a> <br>\n",
    "## 1- Introduction"
   ]
  },
  {
   "cell_type": "markdown",
   "metadata": {},
   "source": [
    "At [Plume Labs](https://plumelabs.com/en/) their mission is to make air quality information accessible and empowering. They build personal devices and apps that help mesure everyone's exposure, plan his journeys and activities, improve his home and workplace, and persuade decision makers.\n",
    "\n",
    "Leveraging the best of machine learning and atmospheric sciences, they’ve built an API that does forecast pollution data. The live air quality data and hourly forecasts make the air more transparent, and empower businesses, researchers and organizations to build solutions that help people breathe better air.\n",
    "\n",
    "<a href=\"https://plume.io/static/video/timelapse.webm\" title=\"Link Title\"><img src=\"https://plumelabs.com/static/7831da824582f3b74af61c1e0b483c09/a9a1e/api.webp\" alt=\"Alternate Text\" width=300 /></a>\n",
    "\n",
    "They combine machine learning with atmospheric models to deliver real-time and hourly forecast air quality data."
   ]
  },
  {
   "cell_type": "markdown",
   "metadata": {},
   "source": [
    " <a id=\"2\"></a> <br>\n",
    " ## 2- Load packages\n",
    "  <a id=\"21\"></a> <br>\n",
    "## 2-A Import"
   ]
  },
  {
   "cell_type": "code",
   "execution_count": 1,
   "metadata": {},
   "outputs": [
    {
     "name": "stderr",
     "output_type": "stream",
     "text": [
      "Using TensorFlow backend.\n"
     ]
    }
   ],
   "source": [
    "from sklearn.model_selection import train_test_split\n",
    "from sklearn.model_selection import cross_val_score\n",
    "from sklearn.ensemble import RandomForestRegressor\n",
    "from pdpbox import pdp, get_dataset, info_plots\n",
    "from eli5.sklearn import PermutationImportance\n",
    "import matplotlib.pyplot as plt\n",
    "from sklearn import ensemble\n",
    "import seaborn as sns\n",
    "import pandas as pd\n",
    "import numpy as np\n",
    "import warnings\n",
    "import eli5\n",
    "import sys"
   ]
  },
  {
   "cell_type": "markdown",
   "metadata": {},
   "source": [
    " <a id=\"22\"></a> <br>\n",
    "##  2-B Setup"
   ]
  },
  {
   "cell_type": "code",
   "execution_count": 2,
   "metadata": {},
   "outputs": [],
   "source": [
    "%matplotlib inline\n",
    "%precision 4\n",
    "warnings.filterwarnings('ignore')\n",
    "plt.style.use('ggplot')\n",
    "np.set_printoptions(suppress=True)\n",
    "pd.set_option(\"display.precision\", 15)\n",
    "sns.set(style=\"ticks\", color_codes=True)"
   ]
  },
  {
   "cell_type": "markdown",
   "metadata": {},
   "source": [
    " <a id=\"23\"></a> <br>\n",
    "## 2-C Version"
   ]
  },
  {
   "cell_type": "code",
   "execution_count": 51,
   "metadata": {
    "scrolled": true
   },
   "outputs": [
    {
     "name": "stdout",
     "output_type": "stream",
     "text": [
      "pandas: 0.24.2\n",
      "numpy: 1.16.2\n",
      "Python: 3.7.3 (default, Mar 27 2019, 17:13:21) [MSC v.1915 64 bit (AMD64)]\n"
     ]
    }
   ],
   "source": [
    "print('pandas: {}'.format(pd.__version__))\n",
    "print('numpy: {}'.format(np.__version__))\n",
    "print('Python: {}'.format(sys.version))"
   ]
  },
  {
   "cell_type": "markdown",
   "metadata": {},
   "source": [
    " <a id=\"3\"></a> <br>\n",
    " ## 3- Problem Definition\n",
    " \n",
    "In this challenge, we should help this company predictin the **PM10** readings of some air quality monitoring stations using the readings provided by the monitoring stations nearby as well as urban features. The data provided for this competition has the same structure as the real data we have available to solve this problem."
   ]
  },
  {
   "cell_type": "markdown",
   "metadata": {},
   "source": [
    "<a id=\"31\"></a> \n",
    "### 3-1 Problem Feature\n",
    "\n",
    "1. **x_train** - input data of the training set\n",
    "1. **y_train** - output data of the training set\n",
    "1. **x_test** - input data of the testing set"
   ]
  },
  {
   "cell_type": "markdown",
   "metadata": {},
   "source": [
    "<a id=\"32\"></a> \n",
    "### 3-2 Aim\n",
    "In this challenge, the task is to predict the value of **target** column for the x_test set."
   ]
  },
  {
   "cell_type": "markdown",
   "metadata": {},
   "source": [
    "<a id=\"33\"></a> \n",
    "### 3-3 Variables\n",
    "\n",
    "We are provided with a **dataset containing numeric feature variables**, the numeric **target** column, and a numeric **Station_ID** column.\n",
    "\n",
    "The task is to predict the value of **target column** for the test set."
   ]
  },
  {
   "cell_type": "markdown",
   "metadata": {},
   "source": [
    "<a id=\"34\"></a> \n",
    "## 3-4 evaluation\n",
    "\n",
    "**Submissions** are evaluated using the RMSLE metric:\n",
    "<img src='https://secureservercdn.net/160.153.137.16/70j.58d.myftpupload.com/wp-content/uploads/2019/03/rmsle-2.png' width=500>"
   ]
  },
  {
   "cell_type": "code",
   "execution_count": 4,
   "metadata": {},
   "outputs": [],
   "source": [
    "from sklearn.metrics import mean_squared_log_error"
   ]
  },
  {
   "cell_type": "markdown",
   "metadata": {},
   "source": [
    "<a id=\"4\"></a> \n",
    "## 4- Exploratory Data Analysis(EDA)\n",
    " In this section, we'll analysis how to use graphical and numerical techniques to begin uncovering the structure of your data. \n",
    "*  Data Collection\n",
    "*  Visualization\n",
    "*  Data Preprocessing\n",
    "*  Data Cleaning\n",
    "<img src=\"https://miro.medium.com/max/1130/1*3sr-fMg4S_yEncGsIjyG9A.png\" width=400 height=400>"
   ]
  },
  {
   "cell_type": "markdown",
   "metadata": {},
   "source": [
    " <a id=\"41\"></a> <br>\n",
    "## 4-1 Data Collection"
   ]
  },
  {
   "cell_type": "code",
   "execution_count": 2,
   "metadata": {},
   "outputs": [
    {
     "name": "stdout",
     "output_type": "stream",
     "text": [
      "(695255, 36) (695255, 2) (247473, 36)\n"
     ]
    }
   ],
   "source": [
    "# import train & test Datasets\n",
    "data_input = pd.read_csv('training_input_lat8cht.csv')\n",
    "data_output = pd.read_csv('training_output_Z18GQCh.csv')\n",
    "data_test = pd.read_csv('testing_input_A9o5RSM.csv')\n",
    "print(data_input.shape, data_output.shape, data_test.shape)"
   ]
  },
  {
   "cell_type": "code",
   "execution_count": 6,
   "metadata": {
    "scrolled": true
   },
   "outputs": [
    {
     "data": {
      "text/html": [
       "<div>\n",
       "<style scoped>\n",
       "    .dataframe tbody tr th:only-of-type {\n",
       "        vertical-align: middle;\n",
       "    }\n",
       "\n",
       "    .dataframe tbody tr th {\n",
       "        vertical-align: top;\n",
       "    }\n",
       "\n",
       "    .dataframe thead th {\n",
       "        text-align: right;\n",
       "    }\n",
       "</style>\n",
       "<table border=\"1\" class=\"dataframe\">\n",
       "  <thead>\n",
       "    <tr style=\"text-align: right;\">\n",
       "      <th></th>\n",
       "      <th>ID</th>\n",
       "      <th>station_id</th>\n",
       "      <th>hdres_100</th>\n",
       "      <th>hdres_500</th>\n",
       "      <th>ldres_100</th>\n",
       "      <th>ldres_500</th>\n",
       "      <th>industry_100</th>\n",
       "      <th>industry_500</th>\n",
       "      <th>urbgreen_100</th>\n",
       "      <th>urbgreen_500</th>\n",
       "      <th>...</th>\n",
       "      <th>value_0</th>\n",
       "      <th>value_1</th>\n",
       "      <th>value_2</th>\n",
       "      <th>value_3</th>\n",
       "      <th>value_4</th>\n",
       "      <th>value_5</th>\n",
       "      <th>value_6</th>\n",
       "      <th>value_7</th>\n",
       "      <th>value_8</th>\n",
       "      <th>value_9</th>\n",
       "    </tr>\n",
       "  </thead>\n",
       "  <tbody>\n",
       "    <tr>\n",
       "      <th>0</th>\n",
       "      <td>0</td>\n",
       "      <td>105</td>\n",
       "      <td>0.0</td>\n",
       "      <td>0.0</td>\n",
       "      <td>1.0</td>\n",
       "      <td>0.929</td>\n",
       "      <td>0.0</td>\n",
       "      <td>0.033</td>\n",
       "      <td>0.0</td>\n",
       "      <td>0.022</td>\n",
       "      <td>...</td>\n",
       "      <td>53.0</td>\n",
       "      <td>46.0</td>\n",
       "      <td>52.0</td>\n",
       "      <td>44.0</td>\n",
       "      <td>40.0</td>\n",
       "      <td>38.0</td>\n",
       "      <td>54.0</td>\n",
       "      <td>36.0</td>\n",
       "      <td>39.0</td>\n",
       "      <td>42.0</td>\n",
       "    </tr>\n",
       "    <tr>\n",
       "      <th>1</th>\n",
       "      <td>1</td>\n",
       "      <td>105</td>\n",
       "      <td>0.0</td>\n",
       "      <td>0.0</td>\n",
       "      <td>1.0</td>\n",
       "      <td>0.929</td>\n",
       "      <td>0.0</td>\n",
       "      <td>0.033</td>\n",
       "      <td>0.0</td>\n",
       "      <td>0.022</td>\n",
       "      <td>...</td>\n",
       "      <td>55.0</td>\n",
       "      <td>47.0</td>\n",
       "      <td>54.0</td>\n",
       "      <td>45.0</td>\n",
       "      <td>41.0</td>\n",
       "      <td>39.0</td>\n",
       "      <td>55.0</td>\n",
       "      <td>37.0</td>\n",
       "      <td>40.0</td>\n",
       "      <td>43.0</td>\n",
       "    </tr>\n",
       "    <tr>\n",
       "      <th>2</th>\n",
       "      <td>2</td>\n",
       "      <td>105</td>\n",
       "      <td>0.0</td>\n",
       "      <td>0.0</td>\n",
       "      <td>1.0</td>\n",
       "      <td>0.929</td>\n",
       "      <td>0.0</td>\n",
       "      <td>0.033</td>\n",
       "      <td>0.0</td>\n",
       "      <td>0.022</td>\n",
       "      <td>...</td>\n",
       "      <td>84.5</td>\n",
       "      <td>54.0</td>\n",
       "      <td>78.0</td>\n",
       "      <td>49.0</td>\n",
       "      <td>47.0</td>\n",
       "      <td>42.0</td>\n",
       "      <td>63.0</td>\n",
       "      <td>42.0</td>\n",
       "      <td>48.0</td>\n",
       "      <td>49.0</td>\n",
       "    </tr>\n",
       "    <tr>\n",
       "      <th>3</th>\n",
       "      <td>3</td>\n",
       "      <td>105</td>\n",
       "      <td>0.0</td>\n",
       "      <td>0.0</td>\n",
       "      <td>1.0</td>\n",
       "      <td>0.929</td>\n",
       "      <td>0.0</td>\n",
       "      <td>0.033</td>\n",
       "      <td>0.0</td>\n",
       "      <td>0.022</td>\n",
       "      <td>...</td>\n",
       "      <td>97.0</td>\n",
       "      <td>59.0</td>\n",
       "      <td>84.0</td>\n",
       "      <td>55.0</td>\n",
       "      <td>58.0</td>\n",
       "      <td>48.0</td>\n",
       "      <td>72.0</td>\n",
       "      <td>51.0</td>\n",
       "      <td>57.0</td>\n",
       "      <td>59.0</td>\n",
       "    </tr>\n",
       "    <tr>\n",
       "      <th>4</th>\n",
       "      <td>4</td>\n",
       "      <td>105</td>\n",
       "      <td>0.0</td>\n",
       "      <td>0.0</td>\n",
       "      <td>1.0</td>\n",
       "      <td>0.929</td>\n",
       "      <td>0.0</td>\n",
       "      <td>0.033</td>\n",
       "      <td>0.0</td>\n",
       "      <td>0.022</td>\n",
       "      <td>...</td>\n",
       "      <td>99.0</td>\n",
       "      <td>67.0</td>\n",
       "      <td>95.0</td>\n",
       "      <td>63.0</td>\n",
       "      <td>67.0</td>\n",
       "      <td>48.0</td>\n",
       "      <td>82.0</td>\n",
       "      <td>59.0</td>\n",
       "      <td>64.0</td>\n",
       "      <td>65.0</td>\n",
       "    </tr>\n",
       "  </tbody>\n",
       "</table>\n",
       "<p>5 rows × 36 columns</p>\n",
       "</div>"
      ],
      "text/plain": [
       "   ID  station_id  hdres_100  hdres_500  ldres_100  ldres_500  industry_100  \\\n",
       "0   0         105        0.0        0.0        1.0      0.929           0.0   \n",
       "1   1         105        0.0        0.0        1.0      0.929           0.0   \n",
       "2   2         105        0.0        0.0        1.0      0.929           0.0   \n",
       "3   3         105        0.0        0.0        1.0      0.929           0.0   \n",
       "4   4         105        0.0        0.0        1.0      0.929           0.0   \n",
       "\n",
       "   industry_500  urbgreen_100  urbgreen_500  ...  value_0  value_1  value_2  \\\n",
       "0         0.033           0.0         0.022  ...     53.0     46.0     52.0   \n",
       "1         0.033           0.0         0.022  ...     55.0     47.0     54.0   \n",
       "2         0.033           0.0         0.022  ...     84.5     54.0     78.0   \n",
       "3         0.033           0.0         0.022  ...     97.0     59.0     84.0   \n",
       "4         0.033           0.0         0.022  ...     99.0     67.0     95.0   \n",
       "\n",
       "   value_3  value_4  value_5  value_6  value_7  value_8  value_9  \n",
       "0     44.0     40.0     38.0     54.0     36.0     39.0     42.0  \n",
       "1     45.0     41.0     39.0     55.0     37.0     40.0     43.0  \n",
       "2     49.0     47.0     42.0     63.0     42.0     48.0     49.0  \n",
       "3     55.0     58.0     48.0     72.0     51.0     57.0     59.0  \n",
       "4     63.0     67.0     48.0     82.0     59.0     64.0     65.0  \n",
       "\n",
       "[5 rows x 36 columns]"
      ]
     },
     "execution_count": 6,
     "metadata": {},
     "output_type": "execute_result"
    }
   ],
   "source": [
    "data_input.head()"
   ]
  },
  {
   "cell_type": "code",
   "execution_count": 7,
   "metadata": {
    "scrolled": true
   },
   "outputs": [
    {
     "data": {
      "text/html": [
       "<div>\n",
       "<style scoped>\n",
       "    .dataframe tbody tr th:only-of-type {\n",
       "        vertical-align: middle;\n",
       "    }\n",
       "\n",
       "    .dataframe tbody tr th {\n",
       "        vertical-align: top;\n",
       "    }\n",
       "\n",
       "    .dataframe thead th {\n",
       "        text-align: right;\n",
       "    }\n",
       "</style>\n",
       "<table border=\"1\" class=\"dataframe\">\n",
       "  <thead>\n",
       "    <tr style=\"text-align: right;\">\n",
       "      <th></th>\n",
       "      <th>ID</th>\n",
       "      <th>station_id</th>\n",
       "      <th>hdres_100</th>\n",
       "      <th>hdres_500</th>\n",
       "      <th>ldres_100</th>\n",
       "      <th>ldres_500</th>\n",
       "      <th>industry_100</th>\n",
       "      <th>industry_500</th>\n",
       "      <th>urbgreen_100</th>\n",
       "      <th>urbgreen_500</th>\n",
       "      <th>...</th>\n",
       "      <th>value_0</th>\n",
       "      <th>value_1</th>\n",
       "      <th>value_2</th>\n",
       "      <th>value_3</th>\n",
       "      <th>value_4</th>\n",
       "      <th>value_5</th>\n",
       "      <th>value_6</th>\n",
       "      <th>value_7</th>\n",
       "      <th>value_8</th>\n",
       "      <th>value_9</th>\n",
       "    </tr>\n",
       "  </thead>\n",
       "  <tbody>\n",
       "    <tr>\n",
       "      <th>0</th>\n",
       "      <td>0</td>\n",
       "      <td>98</td>\n",
       "      <td>0.0</td>\n",
       "      <td>0.0</td>\n",
       "      <td>0.349</td>\n",
       "      <td>0.503</td>\n",
       "      <td>0.0</td>\n",
       "      <td>0.052</td>\n",
       "      <td>0.651</td>\n",
       "      <td>0.354</td>\n",
       "      <td>...</td>\n",
       "      <td>46.0</td>\n",
       "      <td>53.0</td>\n",
       "      <td>48.0</td>\n",
       "      <td>44.0</td>\n",
       "      <td>54.0</td>\n",
       "      <td>40.0</td>\n",
       "      <td>38.0</td>\n",
       "      <td>36.0</td>\n",
       "      <td>42.0</td>\n",
       "      <td>39.0</td>\n",
       "    </tr>\n",
       "    <tr>\n",
       "      <th>1</th>\n",
       "      <td>1</td>\n",
       "      <td>98</td>\n",
       "      <td>0.0</td>\n",
       "      <td>0.0</td>\n",
       "      <td>0.349</td>\n",
       "      <td>0.503</td>\n",
       "      <td>0.0</td>\n",
       "      <td>0.052</td>\n",
       "      <td>0.651</td>\n",
       "      <td>0.354</td>\n",
       "      <td>...</td>\n",
       "      <td>47.0</td>\n",
       "      <td>55.0</td>\n",
       "      <td>50.0</td>\n",
       "      <td>45.0</td>\n",
       "      <td>55.0</td>\n",
       "      <td>41.0</td>\n",
       "      <td>39.0</td>\n",
       "      <td>37.0</td>\n",
       "      <td>43.0</td>\n",
       "      <td>40.0</td>\n",
       "    </tr>\n",
       "    <tr>\n",
       "      <th>2</th>\n",
       "      <td>2</td>\n",
       "      <td>98</td>\n",
       "      <td>0.0</td>\n",
       "      <td>0.0</td>\n",
       "      <td>0.349</td>\n",
       "      <td>0.503</td>\n",
       "      <td>0.0</td>\n",
       "      <td>0.052</td>\n",
       "      <td>0.651</td>\n",
       "      <td>0.354</td>\n",
       "      <td>...</td>\n",
       "      <td>54.0</td>\n",
       "      <td>84.5</td>\n",
       "      <td>62.0</td>\n",
       "      <td>49.0</td>\n",
       "      <td>63.0</td>\n",
       "      <td>47.0</td>\n",
       "      <td>42.0</td>\n",
       "      <td>42.0</td>\n",
       "      <td>49.0</td>\n",
       "      <td>48.0</td>\n",
       "    </tr>\n",
       "    <tr>\n",
       "      <th>3</th>\n",
       "      <td>3</td>\n",
       "      <td>98</td>\n",
       "      <td>0.0</td>\n",
       "      <td>0.0</td>\n",
       "      <td>0.349</td>\n",
       "      <td>0.503</td>\n",
       "      <td>0.0</td>\n",
       "      <td>0.052</td>\n",
       "      <td>0.651</td>\n",
       "      <td>0.354</td>\n",
       "      <td>...</td>\n",
       "      <td>59.0</td>\n",
       "      <td>97.0</td>\n",
       "      <td>67.0</td>\n",
       "      <td>55.0</td>\n",
       "      <td>72.0</td>\n",
       "      <td>58.0</td>\n",
       "      <td>48.0</td>\n",
       "      <td>51.0</td>\n",
       "      <td>59.0</td>\n",
       "      <td>57.0</td>\n",
       "    </tr>\n",
       "    <tr>\n",
       "      <th>4</th>\n",
       "      <td>4</td>\n",
       "      <td>98</td>\n",
       "      <td>0.0</td>\n",
       "      <td>0.0</td>\n",
       "      <td>0.349</td>\n",
       "      <td>0.503</td>\n",
       "      <td>0.0</td>\n",
       "      <td>0.052</td>\n",
       "      <td>0.651</td>\n",
       "      <td>0.354</td>\n",
       "      <td>...</td>\n",
       "      <td>67.0</td>\n",
       "      <td>99.0</td>\n",
       "      <td>75.0</td>\n",
       "      <td>63.0</td>\n",
       "      <td>82.0</td>\n",
       "      <td>67.0</td>\n",
       "      <td>48.0</td>\n",
       "      <td>59.0</td>\n",
       "      <td>65.0</td>\n",
       "      <td>64.0</td>\n",
       "    </tr>\n",
       "  </tbody>\n",
       "</table>\n",
       "<p>5 rows × 36 columns</p>\n",
       "</div>"
      ],
      "text/plain": [
       "   ID  station_id  hdres_100  hdres_500  ldres_100  ldres_500  industry_100  \\\n",
       "0   0          98        0.0        0.0      0.349      0.503           0.0   \n",
       "1   1          98        0.0        0.0      0.349      0.503           0.0   \n",
       "2   2          98        0.0        0.0      0.349      0.503           0.0   \n",
       "3   3          98        0.0        0.0      0.349      0.503           0.0   \n",
       "4   4          98        0.0        0.0      0.349      0.503           0.0   \n",
       "\n",
       "   industry_500  urbgreen_100  urbgreen_500  ...  value_0  value_1  value_2  \\\n",
       "0         0.052         0.651         0.354  ...     46.0     53.0     48.0   \n",
       "1         0.052         0.651         0.354  ...     47.0     55.0     50.0   \n",
       "2         0.052         0.651         0.354  ...     54.0     84.5     62.0   \n",
       "3         0.052         0.651         0.354  ...     59.0     97.0     67.0   \n",
       "4         0.052         0.651         0.354  ...     67.0     99.0     75.0   \n",
       "\n",
       "   value_3  value_4  value_5  value_6  value_7  value_8  value_9  \n",
       "0     44.0     54.0     40.0     38.0     36.0     42.0     39.0  \n",
       "1     45.0     55.0     41.0     39.0     37.0     43.0     40.0  \n",
       "2     49.0     63.0     47.0     42.0     42.0     49.0     48.0  \n",
       "3     55.0     72.0     58.0     48.0     51.0     59.0     57.0  \n",
       "4     63.0     82.0     67.0     48.0     59.0     65.0     64.0  \n",
       "\n",
       "[5 rows x 36 columns]"
      ]
     },
     "execution_count": 7,
     "metadata": {},
     "output_type": "execute_result"
    }
   ],
   "source": [
    "data_test.head()"
   ]
  },
  {
   "cell_type": "code",
   "execution_count": 4,
   "metadata": {},
   "outputs": [
    {
     "data": {
      "text/html": [
       "<div>\n",
       "<style scoped>\n",
       "    .dataframe tbody tr th:only-of-type {\n",
       "        vertical-align: middle;\n",
       "    }\n",
       "\n",
       "    .dataframe tbody tr th {\n",
       "        vertical-align: top;\n",
       "    }\n",
       "\n",
       "    .dataframe thead th {\n",
       "        text-align: right;\n",
       "    }\n",
       "</style>\n",
       "<table border=\"1\" class=\"dataframe\">\n",
       "  <thead>\n",
       "    <tr style=\"text-align: right;\">\n",
       "      <th></th>\n",
       "      <th>ID</th>\n",
       "      <th>station_id</th>\n",
       "      <th>hdres_100</th>\n",
       "      <th>hdres_500</th>\n",
       "      <th>ldres_100</th>\n",
       "      <th>ldres_500</th>\n",
       "      <th>industry_100</th>\n",
       "      <th>industry_500</th>\n",
       "      <th>urbgreen_100</th>\n",
       "      <th>urbgreen_500</th>\n",
       "      <th>...</th>\n",
       "      <th>value_1</th>\n",
       "      <th>value_2</th>\n",
       "      <th>value_3</th>\n",
       "      <th>value_4</th>\n",
       "      <th>value_5</th>\n",
       "      <th>value_6</th>\n",
       "      <th>value_7</th>\n",
       "      <th>value_8</th>\n",
       "      <th>value_9</th>\n",
       "      <th>value</th>\n",
       "    </tr>\n",
       "  </thead>\n",
       "  <tbody>\n",
       "    <tr>\n",
       "      <th>0</th>\n",
       "      <td>0</td>\n",
       "      <td>105</td>\n",
       "      <td>0.0</td>\n",
       "      <td>0.0</td>\n",
       "      <td>1.0</td>\n",
       "      <td>0.929</td>\n",
       "      <td>0.0</td>\n",
       "      <td>0.033</td>\n",
       "      <td>0.0</td>\n",
       "      <td>0.022</td>\n",
       "      <td>...</td>\n",
       "      <td>46.0</td>\n",
       "      <td>52.0</td>\n",
       "      <td>44.0</td>\n",
       "      <td>40.0</td>\n",
       "      <td>38.0</td>\n",
       "      <td>54.0</td>\n",
       "      <td>36.0</td>\n",
       "      <td>39.0</td>\n",
       "      <td>42.0</td>\n",
       "      <td>48.0</td>\n",
       "    </tr>\n",
       "    <tr>\n",
       "      <th>1</th>\n",
       "      <td>1</td>\n",
       "      <td>105</td>\n",
       "      <td>0.0</td>\n",
       "      <td>0.0</td>\n",
       "      <td>1.0</td>\n",
       "      <td>0.929</td>\n",
       "      <td>0.0</td>\n",
       "      <td>0.033</td>\n",
       "      <td>0.0</td>\n",
       "      <td>0.022</td>\n",
       "      <td>...</td>\n",
       "      <td>47.0</td>\n",
       "      <td>54.0</td>\n",
       "      <td>45.0</td>\n",
       "      <td>41.0</td>\n",
       "      <td>39.0</td>\n",
       "      <td>55.0</td>\n",
       "      <td>37.0</td>\n",
       "      <td>40.0</td>\n",
       "      <td>43.0</td>\n",
       "      <td>50.0</td>\n",
       "    </tr>\n",
       "    <tr>\n",
       "      <th>2</th>\n",
       "      <td>2</td>\n",
       "      <td>105</td>\n",
       "      <td>0.0</td>\n",
       "      <td>0.0</td>\n",
       "      <td>1.0</td>\n",
       "      <td>0.929</td>\n",
       "      <td>0.0</td>\n",
       "      <td>0.033</td>\n",
       "      <td>0.0</td>\n",
       "      <td>0.022</td>\n",
       "      <td>...</td>\n",
       "      <td>54.0</td>\n",
       "      <td>78.0</td>\n",
       "      <td>49.0</td>\n",
       "      <td>47.0</td>\n",
       "      <td>42.0</td>\n",
       "      <td>63.0</td>\n",
       "      <td>42.0</td>\n",
       "      <td>48.0</td>\n",
       "      <td>49.0</td>\n",
       "      <td>62.0</td>\n",
       "    </tr>\n",
       "    <tr>\n",
       "      <th>3</th>\n",
       "      <td>3</td>\n",
       "      <td>105</td>\n",
       "      <td>0.0</td>\n",
       "      <td>0.0</td>\n",
       "      <td>1.0</td>\n",
       "      <td>0.929</td>\n",
       "      <td>0.0</td>\n",
       "      <td>0.033</td>\n",
       "      <td>0.0</td>\n",
       "      <td>0.022</td>\n",
       "      <td>...</td>\n",
       "      <td>59.0</td>\n",
       "      <td>84.0</td>\n",
       "      <td>55.0</td>\n",
       "      <td>58.0</td>\n",
       "      <td>48.0</td>\n",
       "      <td>72.0</td>\n",
       "      <td>51.0</td>\n",
       "      <td>57.0</td>\n",
       "      <td>59.0</td>\n",
       "      <td>67.0</td>\n",
       "    </tr>\n",
       "    <tr>\n",
       "      <th>4</th>\n",
       "      <td>4</td>\n",
       "      <td>105</td>\n",
       "      <td>0.0</td>\n",
       "      <td>0.0</td>\n",
       "      <td>1.0</td>\n",
       "      <td>0.929</td>\n",
       "      <td>0.0</td>\n",
       "      <td>0.033</td>\n",
       "      <td>0.0</td>\n",
       "      <td>0.022</td>\n",
       "      <td>...</td>\n",
       "      <td>67.0</td>\n",
       "      <td>95.0</td>\n",
       "      <td>63.0</td>\n",
       "      <td>67.0</td>\n",
       "      <td>48.0</td>\n",
       "      <td>82.0</td>\n",
       "      <td>59.0</td>\n",
       "      <td>64.0</td>\n",
       "      <td>65.0</td>\n",
       "      <td>75.0</td>\n",
       "    </tr>\n",
       "  </tbody>\n",
       "</table>\n",
       "<p>5 rows × 37 columns</p>\n",
       "</div>"
      ],
      "text/plain": [
       "   ID  station_id  hdres_100  hdres_500  ldres_100  ldres_500  industry_100  \\\n",
       "0   0         105        0.0        0.0        1.0      0.929           0.0   \n",
       "1   1         105        0.0        0.0        1.0      0.929           0.0   \n",
       "2   2         105        0.0        0.0        1.0      0.929           0.0   \n",
       "3   3         105        0.0        0.0        1.0      0.929           0.0   \n",
       "4   4         105        0.0        0.0        1.0      0.929           0.0   \n",
       "\n",
       "   industry_500  urbgreen_100  urbgreen_500  ...  value_1  value_2  value_3  \\\n",
       "0         0.033           0.0         0.022  ...     46.0     52.0     44.0   \n",
       "1         0.033           0.0         0.022  ...     47.0     54.0     45.0   \n",
       "2         0.033           0.0         0.022  ...     54.0     78.0     49.0   \n",
       "3         0.033           0.0         0.022  ...     59.0     84.0     55.0   \n",
       "4         0.033           0.0         0.022  ...     67.0     95.0     63.0   \n",
       "\n",
       "   value_4  value_5  value_6  value_7  value_8  value_9  value  \n",
       "0     40.0     38.0     54.0     36.0     39.0     42.0   48.0  \n",
       "1     41.0     39.0     55.0     37.0     40.0     43.0   50.0  \n",
       "2     47.0     42.0     63.0     42.0     48.0     49.0   62.0  \n",
       "3     58.0     48.0     72.0     51.0     57.0     59.0   67.0  \n",
       "4     67.0     48.0     82.0     59.0     64.0     65.0   75.0  \n",
       "\n",
       "[5 rows x 37 columns]"
      ]
     },
     "execution_count": 4,
     "metadata": {},
     "output_type": "execute_result"
    }
   ],
   "source": [
    "data = pd.concat([data_input,data_output.value], axis=1)\n",
    "data.head()"
   ]
  },
  {
   "cell_type": "code",
   "execution_count": 7,
   "metadata": {
    "scrolled": true
   },
   "outputs": [
    {
     "name": "stdout",
     "output_type": "stream",
     "text": [
      "<class 'pandas.core.frame.DataFrame'>\n",
      "RangeIndex: 695255 entries, 0 to 695254\n",
      "Data columns (total 37 columns):\n",
      "ID                        695255 non-null int64\n",
      "station_id                695255 non-null int64\n",
      "hdres_100                 695255 non-null float64\n",
      "hdres_500                 695255 non-null float64\n",
      "ldres_100                 695255 non-null float64\n",
      "ldres_500                 695255 non-null float64\n",
      "industry_100              695255 non-null float64\n",
      "industry_500              695255 non-null float64\n",
      "urbgreen_100              695255 non-null float64\n",
      "urbgreen_500              695255 non-null float64\n",
      "roads_length_25           695255 non-null float64\n",
      "roads_length_100          695255 non-null float64\n",
      "roads_length_500          695255 non-null float64\n",
      "major_roads_length_25     695255 non-null float64\n",
      "major_roads_length_100    695255 non-null float64\n",
      "major_roads_length_500    695255 non-null float64\n",
      "distance_0                695255 non-null float64\n",
      "distance_1                695255 non-null float64\n",
      "distance_2                695255 non-null float64\n",
      "distance_3                695255 non-null float64\n",
      "distance_4                695255 non-null float64\n",
      "distance_5                695255 non-null float64\n",
      "distance_6                695255 non-null float64\n",
      "distance_7                695255 non-null float64\n",
      "distance_8                695255 non-null float64\n",
      "distance_9                695255 non-null float64\n",
      "value_0                   673650 non-null float64\n",
      "value_1                   665010 non-null float64\n",
      "value_2                   674504 non-null float64\n",
      "value_3                   681336 non-null float64\n",
      "value_4                   678694 non-null float64\n",
      "value_5                   684522 non-null float64\n",
      "value_6                   683945 non-null float64\n",
      "value_7                   661804 non-null float64\n",
      "value_8                   665846 non-null float64\n",
      "value_9                   660610 non-null float64\n",
      "value                     695255 non-null float64\n",
      "dtypes: float64(35), int64(2)\n",
      "memory usage: 196.3 MB\n"
     ]
    }
   ],
   "source": [
    "data.info()"
   ]
  },
  {
   "cell_type": "code",
   "execution_count": 9,
   "metadata": {
    "scrolled": true
   },
   "outputs": [
    {
     "data": {
      "text/html": [
       "<div>\n",
       "<style scoped>\n",
       "    .dataframe tbody tr th:only-of-type {\n",
       "        vertical-align: middle;\n",
       "    }\n",
       "\n",
       "    .dataframe tbody tr th {\n",
       "        vertical-align: top;\n",
       "    }\n",
       "\n",
       "    .dataframe thead th {\n",
       "        text-align: right;\n",
       "    }\n",
       "</style>\n",
       "<table border=\"1\" class=\"dataframe\">\n",
       "  <thead>\n",
       "    <tr style=\"text-align: right;\">\n",
       "      <th></th>\n",
       "      <th>ID</th>\n",
       "      <th>station_id</th>\n",
       "      <th>hdres_100</th>\n",
       "      <th>hdres_500</th>\n",
       "      <th>ldres_100</th>\n",
       "      <th>ldres_500</th>\n",
       "      <th>industry_100</th>\n",
       "      <th>industry_500</th>\n",
       "      <th>urbgreen_100</th>\n",
       "      <th>urbgreen_500</th>\n",
       "      <th>...</th>\n",
       "      <th>value_1</th>\n",
       "      <th>value_2</th>\n",
       "      <th>value_3</th>\n",
       "      <th>value_4</th>\n",
       "      <th>value_5</th>\n",
       "      <th>value_6</th>\n",
       "      <th>value_7</th>\n",
       "      <th>value_8</th>\n",
       "      <th>value_9</th>\n",
       "      <th>value</th>\n",
       "    </tr>\n",
       "  </thead>\n",
       "  <tbody>\n",
       "    <tr>\n",
       "      <th>count</th>\n",
       "      <td>695255.000000000000000</td>\n",
       "      <td>695255.000000000000000</td>\n",
       "      <td>695255.000000000000000</td>\n",
       "      <td>695255.000000000000000</td>\n",
       "      <td>695255.000000000000000</td>\n",
       "      <td>695255.000000000000000</td>\n",
       "      <td>695255.000000000000000</td>\n",
       "      <td>695255.000000000000000</td>\n",
       "      <td>695255.000000000000000</td>\n",
       "      <td>695255.000000000000000</td>\n",
       "      <td>...</td>\n",
       "      <td>665010.000000000000000</td>\n",
       "      <td>674504.000000000000000</td>\n",
       "      <td>681336.000000000000000</td>\n",
       "      <td>678694.000000000000000</td>\n",
       "      <td>684522.000000000000000</td>\n",
       "      <td>683945.000000000000000</td>\n",
       "      <td>661804.000000000000000</td>\n",
       "      <td>665846.000000000000000</td>\n",
       "      <td>660610.000000000000000</td>\n",
       "      <td>695255.000000000000000</td>\n",
       "    </tr>\n",
       "    <tr>\n",
       "      <th>mean</th>\n",
       "      <td>347627.000000000000000</td>\n",
       "      <td>56.045082739426540</td>\n",
       "      <td>0.308561314913417</td>\n",
       "      <td>0.247021143321375</td>\n",
       "      <td>0.441394610609926</td>\n",
       "      <td>0.451669078253293</td>\n",
       "      <td>0.122346257128543</td>\n",
       "      <td>0.147390543037818</td>\n",
       "      <td>0.050757747876634</td>\n",
       "      <td>0.063606253820430</td>\n",
       "      <td>...</td>\n",
       "      <td>22.533732295755460</td>\n",
       "      <td>22.768078024741762</td>\n",
       "      <td>23.011442942982644</td>\n",
       "      <td>22.720934874921543</td>\n",
       "      <td>23.509117181040818</td>\n",
       "      <td>23.469856412431298</td>\n",
       "      <td>23.953564828862643</td>\n",
       "      <td>22.079436267545685</td>\n",
       "      <td>20.693500894628382</td>\n",
       "      <td>22.692011545404348</td>\n",
       "    </tr>\n",
       "    <tr>\n",
       "      <th>std</th>\n",
       "      <td>200702.975039167504292</td>\n",
       "      <td>34.073491124775792</td>\n",
       "      <td>0.432018578384637</td>\n",
       "      <td>0.349114999377007</td>\n",
       "      <td>0.446854349203283</td>\n",
       "      <td>0.362122392443833</td>\n",
       "      <td>0.280902366015158</td>\n",
       "      <td>0.223060746004699</td>\n",
       "      <td>0.181544787647542</td>\n",
       "      <td>0.140639056657387</td>\n",
       "      <td>...</td>\n",
       "      <td>16.334317789811951</td>\n",
       "      <td>16.258749075162889</td>\n",
       "      <td>16.339404081820010</td>\n",
       "      <td>16.282153506399386</td>\n",
       "      <td>17.496717793375733</td>\n",
       "      <td>17.112804632261703</td>\n",
       "      <td>18.234071823234043</td>\n",
       "      <td>14.864382379427450</td>\n",
       "      <td>14.681315407620689</td>\n",
       "      <td>16.855357690476762</td>\n",
       "    </tr>\n",
       "    <tr>\n",
       "      <th>min</th>\n",
       "      <td>0.000000000000000</td>\n",
       "      <td>0.000000000000000</td>\n",
       "      <td>0.000000000000000</td>\n",
       "      <td>0.000000000000000</td>\n",
       "      <td>0.000000000000000</td>\n",
       "      <td>0.000000000000000</td>\n",
       "      <td>0.000000000000000</td>\n",
       "      <td>0.000000000000000</td>\n",
       "      <td>0.000000000000000</td>\n",
       "      <td>0.000000000000000</td>\n",
       "      <td>...</td>\n",
       "      <td>2.000000000000000</td>\n",
       "      <td>2.000000000000000</td>\n",
       "      <td>2.000000000000000</td>\n",
       "      <td>2.000000000000000</td>\n",
       "      <td>2.000000000000000</td>\n",
       "      <td>2.000000000000000</td>\n",
       "      <td>2.000000000000000</td>\n",
       "      <td>2.000000000000000</td>\n",
       "      <td>2.000000000000000</td>\n",
       "      <td>2.000000000000000</td>\n",
       "    </tr>\n",
       "    <tr>\n",
       "      <th>25%</th>\n",
       "      <td>173813.500000000000000</td>\n",
       "      <td>24.000000000000000</td>\n",
       "      <td>0.000000000000000</td>\n",
       "      <td>0.000000000000000</td>\n",
       "      <td>0.000000000000000</td>\n",
       "      <td>0.033000000000000</td>\n",
       "      <td>0.000000000000000</td>\n",
       "      <td>0.000000000000000</td>\n",
       "      <td>0.000000000000000</td>\n",
       "      <td>0.000000000000000</td>\n",
       "      <td>...</td>\n",
       "      <td>12.199999999999999</td>\n",
       "      <td>12.900000000000000</td>\n",
       "      <td>13.000000000000000</td>\n",
       "      <td>12.324999999999999</td>\n",
       "      <td>12.577999999999999</td>\n",
       "      <td>13.000000000000000</td>\n",
       "      <td>13.000000000000000</td>\n",
       "      <td>12.699999999999999</td>\n",
       "      <td>12.000000000000000</td>\n",
       "      <td>12.000000000000000</td>\n",
       "    </tr>\n",
       "    <tr>\n",
       "      <th>50%</th>\n",
       "      <td>347627.000000000000000</td>\n",
       "      <td>59.000000000000000</td>\n",
       "      <td>0.000000000000000</td>\n",
       "      <td>0.000000000000000</td>\n",
       "      <td>0.224000000000000</td>\n",
       "      <td>0.462000000000000</td>\n",
       "      <td>0.000000000000000</td>\n",
       "      <td>0.025000000000000</td>\n",
       "      <td>0.000000000000000</td>\n",
       "      <td>0.007000000000000</td>\n",
       "      <td>...</td>\n",
       "      <td>18.100000000000001</td>\n",
       "      <td>19.000000000000000</td>\n",
       "      <td>19.000000000000000</td>\n",
       "      <td>18.699999999999999</td>\n",
       "      <td>19.000000000000000</td>\n",
       "      <td>19.000000000000000</td>\n",
       "      <td>19.000000000000000</td>\n",
       "      <td>18.000000000000000</td>\n",
       "      <td>17.000000000000000</td>\n",
       "      <td>18.199999999999999</td>\n",
       "    </tr>\n",
       "    <tr>\n",
       "      <th>75%</th>\n",
       "      <td>521440.500000000000000</td>\n",
       "      <td>86.000000000000000</td>\n",
       "      <td>0.784000000000000</td>\n",
       "      <td>0.527000000000000</td>\n",
       "      <td>1.000000000000000</td>\n",
       "      <td>0.811000000000000</td>\n",
       "      <td>0.008000000000000</td>\n",
       "      <td>0.256000000000000</td>\n",
       "      <td>0.000000000000000</td>\n",
       "      <td>0.065000000000000</td>\n",
       "      <td>...</td>\n",
       "      <td>28.000000000000000</td>\n",
       "      <td>28.021000000000001</td>\n",
       "      <td>28.399999999999999</td>\n",
       "      <td>28.000000000000000</td>\n",
       "      <td>29.000000000000000</td>\n",
       "      <td>28.300000000000001</td>\n",
       "      <td>29.199999999999999</td>\n",
       "      <td>27.000000000000000</td>\n",
       "      <td>25.000000000000000</td>\n",
       "      <td>28.000000000000000</td>\n",
       "    </tr>\n",
       "    <tr>\n",
       "      <th>max</th>\n",
       "      <td>695254.000000000000000</td>\n",
       "      <td>114.000000000000000</td>\n",
       "      <td>1.000000000000000</td>\n",
       "      <td>0.991000000000000</td>\n",
       "      <td>1.000000000000000</td>\n",
       "      <td>0.999000000000000</td>\n",
       "      <td>1.000000000000000</td>\n",
       "      <td>0.967000000000000</td>\n",
       "      <td>1.000000000000000</td>\n",
       "      <td>0.981000000000000</td>\n",
       "      <td>...</td>\n",
       "      <td>718.000000000000000</td>\n",
       "      <td>718.000000000000000</td>\n",
       "      <td>562.000000000000000</td>\n",
       "      <td>635.600000000000023</td>\n",
       "      <td>635.600000000000023</td>\n",
       "      <td>635.600000000000023</td>\n",
       "      <td>635.600000000000023</td>\n",
       "      <td>516.000000000000000</td>\n",
       "      <td>718.000000000000000</td>\n",
       "      <td>718.000000000000000</td>\n",
       "    </tr>\n",
       "  </tbody>\n",
       "</table>\n",
       "<p>8 rows × 37 columns</p>\n",
       "</div>"
      ],
      "text/plain": [
       "                           ID              station_id               hdres_100  \\\n",
       "count  695255.000000000000000  695255.000000000000000  695255.000000000000000   \n",
       "mean   347627.000000000000000      56.045082739426540       0.308561314913417   \n",
       "std    200702.975039167504292      34.073491124775792       0.432018578384637   \n",
       "min         0.000000000000000       0.000000000000000       0.000000000000000   \n",
       "25%    173813.500000000000000      24.000000000000000       0.000000000000000   \n",
       "50%    347627.000000000000000      59.000000000000000       0.000000000000000   \n",
       "75%    521440.500000000000000      86.000000000000000       0.784000000000000   \n",
       "max    695254.000000000000000     114.000000000000000       1.000000000000000   \n",
       "\n",
       "                    hdres_500               ldres_100               ldres_500  \\\n",
       "count  695255.000000000000000  695255.000000000000000  695255.000000000000000   \n",
       "mean        0.247021143321375       0.441394610609926       0.451669078253293   \n",
       "std         0.349114999377007       0.446854349203283       0.362122392443833   \n",
       "min         0.000000000000000       0.000000000000000       0.000000000000000   \n",
       "25%         0.000000000000000       0.000000000000000       0.033000000000000   \n",
       "50%         0.000000000000000       0.224000000000000       0.462000000000000   \n",
       "75%         0.527000000000000       1.000000000000000       0.811000000000000   \n",
       "max         0.991000000000000       1.000000000000000       0.999000000000000   \n",
       "\n",
       "                 industry_100            industry_500            urbgreen_100  \\\n",
       "count  695255.000000000000000  695255.000000000000000  695255.000000000000000   \n",
       "mean        0.122346257128543       0.147390543037818       0.050757747876634   \n",
       "std         0.280902366015158       0.223060746004699       0.181544787647542   \n",
       "min         0.000000000000000       0.000000000000000       0.000000000000000   \n",
       "25%         0.000000000000000       0.000000000000000       0.000000000000000   \n",
       "50%         0.000000000000000       0.025000000000000       0.000000000000000   \n",
       "75%         0.008000000000000       0.256000000000000       0.000000000000000   \n",
       "max         1.000000000000000       0.967000000000000       1.000000000000000   \n",
       "\n",
       "                 urbgreen_500  ...                 value_1  \\\n",
       "count  695255.000000000000000  ...  665010.000000000000000   \n",
       "mean        0.063606253820430  ...      22.533732295755460   \n",
       "std         0.140639056657387  ...      16.334317789811951   \n",
       "min         0.000000000000000  ...       2.000000000000000   \n",
       "25%         0.000000000000000  ...      12.199999999999999   \n",
       "50%         0.007000000000000  ...      18.100000000000001   \n",
       "75%         0.065000000000000  ...      28.000000000000000   \n",
       "max         0.981000000000000  ...     718.000000000000000   \n",
       "\n",
       "                      value_2                 value_3                 value_4  \\\n",
       "count  674504.000000000000000  681336.000000000000000  678694.000000000000000   \n",
       "mean       22.768078024741762      23.011442942982644      22.720934874921543   \n",
       "std        16.258749075162889      16.339404081820010      16.282153506399386   \n",
       "min         2.000000000000000       2.000000000000000       2.000000000000000   \n",
       "25%        12.900000000000000      13.000000000000000      12.324999999999999   \n",
       "50%        19.000000000000000      19.000000000000000      18.699999999999999   \n",
       "75%        28.021000000000001      28.399999999999999      28.000000000000000   \n",
       "max       718.000000000000000     562.000000000000000     635.600000000000023   \n",
       "\n",
       "                      value_5                 value_6                 value_7  \\\n",
       "count  684522.000000000000000  683945.000000000000000  661804.000000000000000   \n",
       "mean       23.509117181040818      23.469856412431298      23.953564828862643   \n",
       "std        17.496717793375733      17.112804632261703      18.234071823234043   \n",
       "min         2.000000000000000       2.000000000000000       2.000000000000000   \n",
       "25%        12.577999999999999      13.000000000000000      13.000000000000000   \n",
       "50%        19.000000000000000      19.000000000000000      19.000000000000000   \n",
       "75%        29.000000000000000      28.300000000000001      29.199999999999999   \n",
       "max       635.600000000000023     635.600000000000023     635.600000000000023   \n",
       "\n",
       "                      value_8                 value_9                   value  \n",
       "count  665846.000000000000000  660610.000000000000000  695255.000000000000000  \n",
       "mean       22.079436267545685      20.693500894628382      22.692011545404348  \n",
       "std        14.864382379427450      14.681315407620689      16.855357690476762  \n",
       "min         2.000000000000000       2.000000000000000       2.000000000000000  \n",
       "25%        12.699999999999999      12.000000000000000      12.000000000000000  \n",
       "50%        18.000000000000000      17.000000000000000      18.199999999999999  \n",
       "75%        27.000000000000000      25.000000000000000      28.000000000000000  \n",
       "max       516.000000000000000     718.000000000000000     718.000000000000000  \n",
       "\n",
       "[8 rows x 37 columns]"
      ]
     },
     "execution_count": 9,
     "metadata": {},
     "output_type": "execute_result"
    }
   ],
   "source": [
    "data.describe()"
   ]
  },
  {
   "cell_type": "markdown",
   "metadata": {},
   "source": [
    " <a id=\"42\"></a> <br>\n",
    "## 4-2 Data Preprocessing"
   ]
  },
  {
   "cell_type": "markdown",
   "metadata": {},
   "source": [
    " <a id=\"421\"></a> <br>\n",
    "## 4-2-1 Check missing data for test & train"
   ]
  },
  {
   "cell_type": "code",
   "execution_count": 10,
   "metadata": {
    "scrolled": true
   },
   "outputs": [
    {
     "data": {
      "text/plain": [
       "ID                        False\n",
       "station_id                False\n",
       "hdres_100                 False\n",
       "hdres_500                 False\n",
       "ldres_100                 False\n",
       "ldres_500                 False\n",
       "industry_100              False\n",
       "industry_500              False\n",
       "urbgreen_100              False\n",
       "urbgreen_500              False\n",
       "roads_length_25           False\n",
       "roads_length_100          False\n",
       "roads_length_500          False\n",
       "major_roads_length_25     False\n",
       "major_roads_length_100    False\n",
       "major_roads_length_500    False\n",
       "distance_0                False\n",
       "distance_1                False\n",
       "distance_2                False\n",
       "distance_3                False\n",
       "distance_4                False\n",
       "distance_5                False\n",
       "distance_6                False\n",
       "distance_7                False\n",
       "distance_8                False\n",
       "distance_9                False\n",
       "value_0                    True\n",
       "value_1                    True\n",
       "value_2                    True\n",
       "value_3                    True\n",
       "value_4                    True\n",
       "value_5                    True\n",
       "value_6                    True\n",
       "value_7                    True\n",
       "value_8                    True\n",
       "value_9                    True\n",
       "dtype: bool"
      ]
     },
     "execution_count": 10,
     "metadata": {},
     "output_type": "execute_result"
    }
   ],
   "source": [
    "# we have some missing values in train\n",
    "data_input.isnull().any()"
   ]
  },
  {
   "cell_type": "markdown",
   "metadata": {},
   "source": [
    "We noticed that the columns corresponding to the readings at the 10 closest monitoring stations contain some **missing values**. Which means that the corresponding monitoring stations did not return any value at this moment."
   ]
  },
  {
   "cell_type": "code",
   "execution_count": 12,
   "metadata": {
    "scrolled": false
   },
   "outputs": [
    {
     "data": {
      "text/plain": [
       "ID                        False\n",
       "station_id                False\n",
       "hdres_100                 False\n",
       "hdres_500                 False\n",
       "ldres_100                 False\n",
       "ldres_500                 False\n",
       "industry_100              False\n",
       "industry_500              False\n",
       "urbgreen_100              False\n",
       "urbgreen_500              False\n",
       "roads_length_25           False\n",
       "roads_length_100          False\n",
       "roads_length_500          False\n",
       "major_roads_length_25     False\n",
       "major_roads_length_100    False\n",
       "major_roads_length_500    False\n",
       "distance_0                False\n",
       "distance_1                False\n",
       "distance_2                False\n",
       "distance_3                False\n",
       "distance_4                False\n",
       "distance_5                False\n",
       "distance_6                False\n",
       "distance_7                False\n",
       "distance_8                False\n",
       "distance_9                False\n",
       "value_0                    True\n",
       "value_1                    True\n",
       "value_2                    True\n",
       "value_3                    True\n",
       "value_4                    True\n",
       "value_5                    True\n",
       "value_6                    True\n",
       "value_7                    True\n",
       "value_8                    True\n",
       "value_9                    True\n",
       "dtype: bool"
      ]
     },
     "execution_count": 12,
     "metadata": {},
     "output_type": "execute_result"
    }
   ],
   "source": [
    "# we have also missing values in test\n",
    "data_test.isnull().any()"
   ]
  },
  {
   "cell_type": "markdown",
   "metadata": {},
   "source": [
    "The same thing for the test dataset. "
   ]
  },
  {
   "cell_type": "markdown",
   "metadata": {},
   "source": [
    " <a id=\"422\"></a> <br>\n",
    "## 4-2-2 Imputing Null Values"
   ]
  },
  {
   "cell_type": "markdown",
   "metadata": {},
   "source": [
    "In this large data, we have a lot of missing values in the cells. In order to effectively train our model, we must first deal with the missing values. For numerical imputing, we will try to fill the missing values with the mean of each station based on its ID."
   ]
  },
  {
   "cell_type": "code",
   "execution_count": 8,
   "metadata": {},
   "outputs": [
    {
     "data": {
      "text/html": [
       "<div>\n",
       "<style scoped>\n",
       "    .dataframe tbody tr th:only-of-type {\n",
       "        vertical-align: middle;\n",
       "    }\n",
       "\n",
       "    .dataframe tbody tr th {\n",
       "        vertical-align: top;\n",
       "    }\n",
       "\n",
       "    .dataframe thead th {\n",
       "        text-align: right;\n",
       "    }\n",
       "</style>\n",
       "<table border=\"1\" class=\"dataframe\">\n",
       "  <thead>\n",
       "    <tr style=\"text-align: right;\">\n",
       "      <th></th>\n",
       "      <th>Training</th>\n",
       "      <th>Testing</th>\n",
       "    </tr>\n",
       "  </thead>\n",
       "  <tbody>\n",
       "    <tr>\n",
       "      <th>ID</th>\n",
       "      <td>0</td>\n",
       "      <td>0.0</td>\n",
       "    </tr>\n",
       "    <tr>\n",
       "      <th>distance_0</th>\n",
       "      <td>0</td>\n",
       "      <td>0.0</td>\n",
       "    </tr>\n",
       "    <tr>\n",
       "      <th>distance_1</th>\n",
       "      <td>0</td>\n",
       "      <td>0.0</td>\n",
       "    </tr>\n",
       "    <tr>\n",
       "      <th>distance_2</th>\n",
       "      <td>0</td>\n",
       "      <td>0.0</td>\n",
       "    </tr>\n",
       "    <tr>\n",
       "      <th>distance_3</th>\n",
       "      <td>0</td>\n",
       "      <td>0.0</td>\n",
       "    </tr>\n",
       "    <tr>\n",
       "      <th>distance_4</th>\n",
       "      <td>0</td>\n",
       "      <td>0.0</td>\n",
       "    </tr>\n",
       "    <tr>\n",
       "      <th>distance_5</th>\n",
       "      <td>0</td>\n",
       "      <td>0.0</td>\n",
       "    </tr>\n",
       "    <tr>\n",
       "      <th>distance_6</th>\n",
       "      <td>0</td>\n",
       "      <td>0.0</td>\n",
       "    </tr>\n",
       "    <tr>\n",
       "      <th>distance_7</th>\n",
       "      <td>0</td>\n",
       "      <td>0.0</td>\n",
       "    </tr>\n",
       "    <tr>\n",
       "      <th>distance_8</th>\n",
       "      <td>0</td>\n",
       "      <td>0.0</td>\n",
       "    </tr>\n",
       "    <tr>\n",
       "      <th>distance_9</th>\n",
       "      <td>0</td>\n",
       "      <td>0.0</td>\n",
       "    </tr>\n",
       "    <tr>\n",
       "      <th>hdres_100</th>\n",
       "      <td>0</td>\n",
       "      <td>0.0</td>\n",
       "    </tr>\n",
       "    <tr>\n",
       "      <th>hdres_500</th>\n",
       "      <td>0</td>\n",
       "      <td>0.0</td>\n",
       "    </tr>\n",
       "    <tr>\n",
       "      <th>industry_100</th>\n",
       "      <td>0</td>\n",
       "      <td>0.0</td>\n",
       "    </tr>\n",
       "    <tr>\n",
       "      <th>industry_500</th>\n",
       "      <td>0</td>\n",
       "      <td>0.0</td>\n",
       "    </tr>\n",
       "    <tr>\n",
       "      <th>ldres_100</th>\n",
       "      <td>0</td>\n",
       "      <td>0.0</td>\n",
       "    </tr>\n",
       "    <tr>\n",
       "      <th>ldres_500</th>\n",
       "      <td>0</td>\n",
       "      <td>0.0</td>\n",
       "    </tr>\n",
       "    <tr>\n",
       "      <th>major_roads_length_100</th>\n",
       "      <td>0</td>\n",
       "      <td>0.0</td>\n",
       "    </tr>\n",
       "    <tr>\n",
       "      <th>major_roads_length_25</th>\n",
       "      <td>0</td>\n",
       "      <td>0.0</td>\n",
       "    </tr>\n",
       "    <tr>\n",
       "      <th>major_roads_length_500</th>\n",
       "      <td>0</td>\n",
       "      <td>0.0</td>\n",
       "    </tr>\n",
       "    <tr>\n",
       "      <th>roads_length_100</th>\n",
       "      <td>0</td>\n",
       "      <td>0.0</td>\n",
       "    </tr>\n",
       "    <tr>\n",
       "      <th>roads_length_25</th>\n",
       "      <td>0</td>\n",
       "      <td>0.0</td>\n",
       "    </tr>\n",
       "    <tr>\n",
       "      <th>roads_length_500</th>\n",
       "      <td>0</td>\n",
       "      <td>0.0</td>\n",
       "    </tr>\n",
       "    <tr>\n",
       "      <th>station_id</th>\n",
       "      <td>0</td>\n",
       "      <td>0.0</td>\n",
       "    </tr>\n",
       "    <tr>\n",
       "      <th>urbgreen_100</th>\n",
       "      <td>0</td>\n",
       "      <td>0.0</td>\n",
       "    </tr>\n",
       "    <tr>\n",
       "      <th>urbgreen_500</th>\n",
       "      <td>0</td>\n",
       "      <td>0.0</td>\n",
       "    </tr>\n",
       "    <tr>\n",
       "      <th>value</th>\n",
       "      <td>0</td>\n",
       "      <td>NaN</td>\n",
       "    </tr>\n",
       "    <tr>\n",
       "      <th>value_0</th>\n",
       "      <td>21605</td>\n",
       "      <td>7500.0</td>\n",
       "    </tr>\n",
       "    <tr>\n",
       "      <th>value_1</th>\n",
       "      <td>30245</td>\n",
       "      <td>7664.0</td>\n",
       "    </tr>\n",
       "    <tr>\n",
       "      <th>value_2</th>\n",
       "      <td>20751</td>\n",
       "      <td>10839.0</td>\n",
       "    </tr>\n",
       "    <tr>\n",
       "      <th>value_3</th>\n",
       "      <td>13919</td>\n",
       "      <td>5626.0</td>\n",
       "    </tr>\n",
       "    <tr>\n",
       "      <th>value_4</th>\n",
       "      <td>16561</td>\n",
       "      <td>15186.0</td>\n",
       "    </tr>\n",
       "    <tr>\n",
       "      <th>value_5</th>\n",
       "      <td>10733</td>\n",
       "      <td>3359.0</td>\n",
       "    </tr>\n",
       "    <tr>\n",
       "      <th>value_6</th>\n",
       "      <td>11310</td>\n",
       "      <td>3566.0</td>\n",
       "    </tr>\n",
       "    <tr>\n",
       "      <th>value_7</th>\n",
       "      <td>33451</td>\n",
       "      <td>6711.0</td>\n",
       "    </tr>\n",
       "    <tr>\n",
       "      <th>value_8</th>\n",
       "      <td>29409</td>\n",
       "      <td>8173.0</td>\n",
       "    </tr>\n",
       "    <tr>\n",
       "      <th>value_9</th>\n",
       "      <td>34645</td>\n",
       "      <td>11301.0</td>\n",
       "    </tr>\n",
       "  </tbody>\n",
       "</table>\n",
       "</div>"
      ],
      "text/plain": [
       "                        Training  Testing\n",
       "ID                             0      0.0\n",
       "distance_0                     0      0.0\n",
       "distance_1                     0      0.0\n",
       "distance_2                     0      0.0\n",
       "distance_3                     0      0.0\n",
       "distance_4                     0      0.0\n",
       "distance_5                     0      0.0\n",
       "distance_6                     0      0.0\n",
       "distance_7                     0      0.0\n",
       "distance_8                     0      0.0\n",
       "distance_9                     0      0.0\n",
       "hdres_100                      0      0.0\n",
       "hdres_500                      0      0.0\n",
       "industry_100                   0      0.0\n",
       "industry_500                   0      0.0\n",
       "ldres_100                      0      0.0\n",
       "ldres_500                      0      0.0\n",
       "major_roads_length_100         0      0.0\n",
       "major_roads_length_25          0      0.0\n",
       "major_roads_length_500         0      0.0\n",
       "roads_length_100               0      0.0\n",
       "roads_length_25                0      0.0\n",
       "roads_length_500               0      0.0\n",
       "station_id                     0      0.0\n",
       "urbgreen_100                   0      0.0\n",
       "urbgreen_500                   0      0.0\n",
       "value                          0      NaN\n",
       "value_0                    21605   7500.0\n",
       "value_1                    30245   7664.0\n",
       "value_2                    20751  10839.0\n",
       "value_3                    13919   5626.0\n",
       "value_4                    16561  15186.0\n",
       "value_5                    10733   3359.0\n",
       "value_6                    11310   3566.0\n",
       "value_7                    33451   6711.0\n",
       "value_8                    29409   8173.0\n",
       "value_9                    34645  11301.0"
      ]
     },
     "execution_count": 8,
     "metadata": {},
     "output_type": "execute_result"
    }
   ],
   "source": [
    "training_null = pd.isnull(data).sum()\n",
    "testing_null = pd.isnull(data_test).sum()\n",
    "\n",
    "null = pd.concat([training_null, testing_null], axis=1, keys=[\"Training\", \"Testing\"])\n",
    "null"
   ]
  },
  {
   "cell_type": "markdown",
   "metadata": {},
   "source": [
    "Actually we have two options : choosing between filling with the mean or the median, and these measures can be applied on the train, test or both at the same time."
   ]
  },
  {
   "cell_type": "code",
   "execution_count": 12,
   "metadata": {},
   "outputs": [],
   "source": [
    "data_Land_Use = data.loc[:,'hdres_100' : 'urbgreen_500']\n",
    "data_Roads = data.loc[:, 'roads_length_25':'major_roads_length_500']\n",
    "data_Readings = data.loc[:,'value_0':'value_9']"
   ]
  },
  {
   "cell_type": "code",
   "execution_count": 13,
   "metadata": {
    "scrolled": true
   },
   "outputs": [
    {
     "data": {
      "text/plain": [
       "['value_0',\n",
       " 'value_1',\n",
       " 'value_2',\n",
       " 'value_3',\n",
       " 'value_4',\n",
       " 'value_5',\n",
       " 'value_6',\n",
       " 'value_7',\n",
       " 'value_8',\n",
       " 'value_9']"
      ]
     },
     "execution_count": 13,
     "metadata": {},
     "output_type": "execute_result"
    }
   ],
   "source": [
    "cols = list(data_Readings.dtypes.index)\n",
    "cols"
   ]
  },
  {
   "cell_type": "code",
   "execution_count": 321,
   "metadata": {},
   "outputs": [],
   "source": [
    "#Mean\n",
    "##for i in cols:\n",
    "##    data[i] = data.groupby(\"station_id\").transform(lambda x: x.fillna(x.mean()))[i]\n",
    " ##   data_test[i] = data_test.groupby(\"station_id\").transform(lambda x: x.fillna(x.mean()))[i]\n",
    "\n",
    "#Median\n",
    "for i in cols:\n",
    "    data[i] = data.groupby(\"station_id\").transform(lambda x: x.fillna(x.median()))[i]\n",
    "    data_test[i] = data_test.groupby(\"station_id\").transform(lambda x: x.fillna(x.median()))[i]"
   ]
  },
  {
   "cell_type": "markdown",
   "metadata": {},
   "source": [
    "Let's check how many null values are remaining:"
   ]
  },
  {
   "cell_type": "code",
   "execution_count": 322,
   "metadata": {},
   "outputs": [
    {
     "data": {
      "text/html": [
       "<div>\n",
       "<style scoped>\n",
       "    .dataframe tbody tr th:only-of-type {\n",
       "        vertical-align: middle;\n",
       "    }\n",
       "\n",
       "    .dataframe tbody tr th {\n",
       "        vertical-align: top;\n",
       "    }\n",
       "\n",
       "    .dataframe thead th {\n",
       "        text-align: right;\n",
       "    }\n",
       "</style>\n",
       "<table border=\"1\" class=\"dataframe\">\n",
       "  <thead>\n",
       "    <tr style=\"text-align: right;\">\n",
       "      <th></th>\n",
       "      <th>Training</th>\n",
       "      <th>Testing</th>\n",
       "    </tr>\n",
       "  </thead>\n",
       "  <tbody>\n",
       "  </tbody>\n",
       "</table>\n",
       "</div>"
      ],
      "text/plain": [
       "Empty DataFrame\n",
       "Columns: [Training, Testing]\n",
       "Index: []"
      ]
     },
     "execution_count": 322,
     "metadata": {},
     "output_type": "execute_result"
    }
   ],
   "source": [
    "training_null = pd.isnull(data).sum()\n",
    "testing_null = pd.isnull(data_test).sum()\n",
    "\n",
    "null = pd.concat([training_null, testing_null], axis=1, keys=[\"Training\", \"Testing\"])\n",
    "null[null.sum(axis=1) > 0]"
   ]
  },
  {
   "cell_type": "markdown",
   "metadata": {},
   "source": [
    "If it works successful, the code above should print an empty table."
   ]
  },
  {
   "cell_type": "markdown",
   "metadata": {},
   "source": [
    " <a id=\"423\"></a> <br>\n",
    "## 4-2-3 Reducing  memory size by ~ 50%\n",
    "\n",
    "We noticed the size of the properties dataset is pretty big **(196 MB)**  so we decided to make the dataset smaller without losing information.\n",
    "It is important to verify first the different ranges for each variable in the dataset. Check ranges <a href=\"https://clickhouse-docs.readthedocs.io/en/latest/data_types/int_uint.html\">here</a>"
   ]
  },
  {
   "cell_type": "markdown",
   "metadata": {},
   "source": [
    "Because we make a lot of calculations in this kernel, we'd better reduce the size of the data.\n",
    "1. 196 MB before Reducing\n",
    "1. 98 MB after Reducing"
   ]
  },
  {
   "cell_type": "markdown",
   "metadata": {},
   "source": [
    "It uses the following approach:\n",
    "\n",
    "- Iterate over every column\n",
    "- Determine if the column is numeric\n",
    "- Determine if the column can be represented by an integer\n",
    "- Find the min and the max value\n",
    "- Determine and apply the smallest datatype that can fit the range of values"
   ]
  },
  {
   "cell_type": "code",
   "execution_count": 18,
   "metadata": {},
   "outputs": [],
   "source": [
    "#Based on this great kernel https://www.kaggle.com/arjanso/reducing-dataframe-memory-size-by-65\n",
    "\n",
    "def reduce_mem_usage(df):\n",
    "    start_mem_usg = df.memory_usage().sum() / 1024**2 \n",
    "    print(\"Memory usage of properties dataframe is :\",start_mem_usg,\" MB\")\n",
    "    NAlist = [] # Keeps track of columns that have missing values filled in. \n",
    "    for col in df.columns:\n",
    "        if df[col].dtype != object:  # Exclude strings\n",
    "            \n",
    "            # Print current column type\n",
    "            print(\"******************************\")\n",
    "            print(\"Column: \",col)\n",
    "            print(\"dtype before: \",df[col].dtype)\n",
    "            \n",
    "            # make variables for Int, max and min\n",
    "            IsInt = False\n",
    "            mx = df[col].max()\n",
    "            mn = df[col].min()\n",
    "            \n",
    "            # Integer does not support NA, therefore, NA needs to be filled\n",
    "            if not np.isfinite(df[col]).all(): \n",
    "                NAlist.append(col)\n",
    "                df[col].fillna(mn-1,inplace=True)  \n",
    "                   \n",
    "            # test if column can be converted to an integer\n",
    "            asint = df[col].fillna(0).astype(np.int64)\n",
    "            result = (df[col] - asint)\n",
    "            result = result.sum()\n",
    "            if result > -0.01 and result < 0.01:\n",
    "                IsInt = True\n",
    "\n",
    "            \n",
    "            # Make Integer/unsigned Integer datatypes\n",
    "            if IsInt:\n",
    "                if mn >= 0:\n",
    "                    if mx < 255:\n",
    "                        df[col] = df[col].astype(np.uint8)\n",
    "                    elif mx < 65535:\n",
    "                        df[col] = df[col].astype(np.uint16)\n",
    "                    elif mx < 4294967295:\n",
    "                        df[col] = df[col].astype(np.uint32)\n",
    "                    else:\n",
    "                        df[col] = df[col].astype(np.uint64)\n",
    "                else:\n",
    "                    if mn > np.iinfo(np.int8).min and mx < np.iinfo(np.int8).max:\n",
    "                        df[col] = df[col].astype(np.int8)\n",
    "                    elif mn > np.iinfo(np.int16).min and mx < np.iinfo(np.int16).max:\n",
    "                        df[col] = df[col].astype(np.int16)\n",
    "                    elif mn > np.iinfo(np.int32).min and mx < np.iinfo(np.int32).max:\n",
    "                        df[col] = df[col].astype(np.int32)\n",
    "                    elif mn > np.iinfo(np.int64).min and mx < np.iinfo(np.int64).max:\n",
    "                        df[col] = df[col].astype(np.int64)    \n",
    "            \n",
    "            # Make float datatypes 32 bit\n",
    "            else:\n",
    "                df[col] = df[col].astype(np.float32)\n",
    "            \n",
    "            # Print new column type\n",
    "            print(\"dtype after: \",df[col].dtype)\n",
    "            print(\"******************************\")\n",
    "    \n",
    "    # Print final result\n",
    "    print(\"___MEMORY USAGE AFTER COMPLETION:___\")\n",
    "    mem_usg = df.memory_usage().sum() / 1024**2 \n",
    "    print(\"Memory usage is: \",mem_usg,\" MB\")\n",
    "    print(\"This is \",100*mem_usg/start_mem_usg,\"% of the initial size\")\n",
    "    return df, NAlist"
   ]
  },
  {
   "cell_type": "code",
   "execution_count": 19,
   "metadata": {},
   "outputs": [
    {
     "name": "stdout",
     "output_type": "stream",
     "text": [
      "Memory usage of properties dataframe is : 196.2619400024414  MB\n",
      "******************************\n",
      "Column:  ID\n",
      "dtype before:  int64\n",
      "dtype after:  uint32\n",
      "******************************\n",
      "******************************\n",
      "Column:  station_id\n",
      "dtype before:  int64\n",
      "dtype after:  uint8\n",
      "******************************\n",
      "******************************\n",
      "Column:  hdres_100\n",
      "dtype before:  float64\n",
      "dtype after:  float32\n",
      "******************************\n",
      "******************************\n",
      "Column:  hdres_500\n",
      "dtype before:  float64\n",
      "dtype after:  float32\n",
      "******************************\n",
      "******************************\n",
      "Column:  ldres_100\n",
      "dtype before:  float64\n",
      "dtype after:  float32\n",
      "******************************\n",
      "******************************\n",
      "Column:  ldres_500\n",
      "dtype before:  float64\n",
      "dtype after:  float32\n",
      "******************************\n",
      "******************************\n",
      "Column:  industry_100\n",
      "dtype before:  float64\n",
      "dtype after:  float32\n",
      "******************************\n",
      "******************************\n",
      "Column:  industry_500\n",
      "dtype before:  float64\n",
      "dtype after:  float32\n",
      "******************************\n",
      "******************************\n",
      "Column:  urbgreen_100\n",
      "dtype before:  float64\n",
      "dtype after:  float32\n",
      "******************************\n",
      "******************************\n",
      "Column:  urbgreen_500\n",
      "dtype before:  float64\n",
      "dtype after:  float32\n",
      "******************************\n",
      "******************************\n",
      "Column:  roads_length_25\n",
      "dtype before:  float64\n",
      "dtype after:  float32\n",
      "******************************\n",
      "******************************\n",
      "Column:  roads_length_100\n",
      "dtype before:  float64\n",
      "dtype after:  float32\n",
      "******************************\n",
      "******************************\n",
      "Column:  roads_length_500\n",
      "dtype before:  float64\n",
      "dtype after:  float32\n",
      "******************************\n",
      "******************************\n",
      "Column:  major_roads_length_25\n",
      "dtype before:  float64\n",
      "dtype after:  float32\n",
      "******************************\n",
      "******************************\n",
      "Column:  major_roads_length_100\n",
      "dtype before:  float64\n",
      "dtype after:  float32\n",
      "******************************\n",
      "******************************\n",
      "Column:  major_roads_length_500\n",
      "dtype before:  float64\n",
      "dtype after:  float32\n",
      "******************************\n",
      "******************************\n",
      "Column:  distance_0\n",
      "dtype before:  float64\n",
      "dtype after:  float32\n",
      "******************************\n",
      "******************************\n",
      "Column:  distance_1\n",
      "dtype before:  float64\n",
      "dtype after:  float32\n",
      "******************************\n",
      "******************************\n",
      "Column:  distance_2\n",
      "dtype before:  float64\n",
      "dtype after:  float32\n",
      "******************************\n",
      "******************************\n",
      "Column:  distance_3\n",
      "dtype before:  float64\n",
      "dtype after:  float32\n",
      "******************************\n",
      "******************************\n",
      "Column:  distance_4\n",
      "dtype before:  float64\n",
      "dtype after:  float32\n",
      "******************************\n",
      "******************************\n",
      "Column:  distance_5\n",
      "dtype before:  float64\n",
      "dtype after:  float32\n",
      "******************************\n",
      "******************************\n",
      "Column:  distance_6\n",
      "dtype before:  float64\n",
      "dtype after:  float32\n",
      "******************************\n",
      "******************************\n",
      "Column:  distance_7\n",
      "dtype before:  float64\n",
      "dtype after:  float32\n",
      "******************************\n",
      "******************************\n",
      "Column:  distance_8\n",
      "dtype before:  float64\n",
      "dtype after:  float32\n",
      "******************************\n",
      "******************************\n",
      "Column:  distance_9\n",
      "dtype before:  float64\n",
      "dtype after:  float32\n",
      "******************************\n",
      "******************************\n",
      "Column:  value_0\n",
      "dtype before:  float64\n",
      "dtype after:  float32\n",
      "******************************\n",
      "******************************\n",
      "Column:  value_1\n",
      "dtype before:  float64\n",
      "dtype after:  float32\n",
      "******************************\n",
      "******************************\n",
      "Column:  value_2\n",
      "dtype before:  float64\n",
      "dtype after:  float32\n",
      "******************************\n",
      "******************************\n",
      "Column:  value_3\n",
      "dtype before:  float64\n",
      "dtype after:  float32\n",
      "******************************\n",
      "******************************\n",
      "Column:  value_4\n",
      "dtype before:  float64\n",
      "dtype after:  float32\n",
      "******************************\n",
      "******************************\n",
      "Column:  value_5\n",
      "dtype before:  float64\n",
      "dtype after:  float32\n",
      "******************************\n",
      "******************************\n",
      "Column:  value_6\n",
      "dtype before:  float64\n",
      "dtype after:  float32\n",
      "******************************\n",
      "******************************\n",
      "Column:  value_7\n",
      "dtype before:  float64\n",
      "dtype after:  float32\n",
      "******************************\n",
      "******************************\n",
      "Column:  value_8\n",
      "dtype before:  float64\n",
      "dtype after:  float32\n",
      "******************************\n",
      "******************************\n",
      "Column:  value_9\n",
      "dtype before:  float64\n",
      "dtype after:  float32\n",
      "******************************\n",
      "******************************\n",
      "Column:  value\n",
      "dtype before:  float64\n",
      "dtype after:  float32\n",
      "******************************\n",
      "___MEMORY USAGE AFTER COMPLETION:___\n",
      "Memory usage is:  96.14186763763428  MB\n",
      "This is  48.98650631724028 % of the initial size\n",
      "_________________\n",
      "\n",
      "Warning: the following columns have missing values filled with 'df['column_name'].min() -1': \n",
      "_________________\n",
      "\n",
      "[]\n"
     ]
    }
   ],
   "source": [
    "data, NAlist = reduce_mem_usage(data)\n",
    "print(\"_________________\")\n",
    "print(\"\")\n",
    "print(\"Warning: the following columns have missing values filled with 'df['column_name'].min() -1': \")\n",
    "print(\"_________________\")\n",
    "print(\"\")\n",
    "print(NAlist)"
   ]
  },
  {
   "cell_type": "code",
   "execution_count": 20,
   "metadata": {
    "scrolled": true
   },
   "outputs": [
    {
     "name": "stdout",
     "output_type": "stream",
     "text": [
      "<class 'pandas.core.frame.DataFrame'>\n",
      "RangeIndex: 695255 entries, 0 to 695254\n",
      "Data columns (total 37 columns):\n",
      "ID                        695255 non-null uint32\n",
      "station_id                695255 non-null uint8\n",
      "hdres_100                 695255 non-null float32\n",
      "hdres_500                 695255 non-null float32\n",
      "ldres_100                 695255 non-null float32\n",
      "ldres_500                 695255 non-null float32\n",
      "industry_100              695255 non-null float32\n",
      "industry_500              695255 non-null float32\n",
      "urbgreen_100              695255 non-null float32\n",
      "urbgreen_500              695255 non-null float32\n",
      "roads_length_25           695255 non-null float32\n",
      "roads_length_100          695255 non-null float32\n",
      "roads_length_500          695255 non-null float32\n",
      "major_roads_length_25     695255 non-null float32\n",
      "major_roads_length_100    695255 non-null float32\n",
      "major_roads_length_500    695255 non-null float32\n",
      "distance_0                695255 non-null float32\n",
      "distance_1                695255 non-null float32\n",
      "distance_2                695255 non-null float32\n",
      "distance_3                695255 non-null float32\n",
      "distance_4                695255 non-null float32\n",
      "distance_5                695255 non-null float32\n",
      "distance_6                695255 non-null float32\n",
      "distance_7                695255 non-null float32\n",
      "distance_8                695255 non-null float32\n",
      "distance_9                695255 non-null float32\n",
      "value_0                   695255 non-null float32\n",
      "value_1                   695255 non-null float32\n",
      "value_2                   695255 non-null float32\n",
      "value_3                   695255 non-null float32\n",
      "value_4                   695255 non-null float32\n",
      "value_5                   695255 non-null float32\n",
      "value_6                   695255 non-null float32\n",
      "value_7                   695255 non-null float32\n",
      "value_8                   695255 non-null float32\n",
      "value_9                   695255 non-null float32\n",
      "value                     695255 non-null float32\n",
      "dtypes: float32(35), uint32(1), uint8(1)\n",
      "memory usage: 96.1 MB\n"
     ]
    }
   ],
   "source": [
    "data.info()"
   ]
  },
  {
   "cell_type": "code",
   "execution_count": 21,
   "metadata": {},
   "outputs": [
    {
     "name": "stdout",
     "output_type": "stream",
     "text": [
      "Memory usage of properties dataframe is : 67.97056579589844  MB\n",
      "******************************\n",
      "Column:  ID\n",
      "dtype before:  int64\n",
      "dtype after:  uint32\n",
      "******************************\n",
      "******************************\n",
      "Column:  station_id\n",
      "dtype before:  int64\n",
      "dtype after:  uint8\n",
      "******************************\n",
      "******************************\n",
      "Column:  hdres_100\n",
      "dtype before:  float64\n",
      "dtype after:  float32\n",
      "******************************\n",
      "******************************\n",
      "Column:  hdres_500\n",
      "dtype before:  float64\n",
      "dtype after:  float32\n",
      "******************************\n",
      "******************************\n",
      "Column:  ldres_100\n",
      "dtype before:  float64\n",
      "dtype after:  float32\n",
      "******************************\n",
      "******************************\n",
      "Column:  ldres_500\n",
      "dtype before:  float64\n",
      "dtype after:  float32\n",
      "******************************\n",
      "******************************\n",
      "Column:  industry_100\n",
      "dtype before:  float64\n",
      "dtype after:  float32\n",
      "******************************\n",
      "******************************\n",
      "Column:  industry_500\n",
      "dtype before:  float64\n",
      "dtype after:  float32\n",
      "******************************\n",
      "******************************\n",
      "Column:  urbgreen_100\n",
      "dtype before:  float64\n",
      "dtype after:  float32\n",
      "******************************\n",
      "******************************\n",
      "Column:  urbgreen_500\n",
      "dtype before:  float64\n",
      "dtype after:  float32\n",
      "******************************\n",
      "******************************\n",
      "Column:  roads_length_25\n",
      "dtype before:  float64\n",
      "dtype after:  float32\n",
      "******************************\n",
      "******************************\n",
      "Column:  roads_length_100\n",
      "dtype before:  float64\n",
      "dtype after:  float32\n",
      "******************************\n",
      "******************************\n",
      "Column:  roads_length_500\n",
      "dtype before:  float64\n",
      "dtype after:  float32\n",
      "******************************\n",
      "******************************\n",
      "Column:  major_roads_length_25\n",
      "dtype before:  float64\n",
      "dtype after:  float32\n",
      "******************************\n",
      "******************************\n",
      "Column:  major_roads_length_100\n",
      "dtype before:  float64\n",
      "dtype after:  float32\n",
      "******************************\n",
      "******************************\n",
      "Column:  major_roads_length_500\n",
      "dtype before:  float64\n",
      "dtype after:  float32\n",
      "******************************\n",
      "******************************\n",
      "Column:  distance_0\n",
      "dtype before:  float64\n",
      "dtype after:  float32\n",
      "******************************\n",
      "******************************\n",
      "Column:  distance_1\n",
      "dtype before:  float64\n",
      "dtype after:  float32\n",
      "******************************\n",
      "******************************\n",
      "Column:  distance_2\n",
      "dtype before:  float64\n",
      "dtype after:  float32\n",
      "******************************\n",
      "******************************\n",
      "Column:  distance_3\n",
      "dtype before:  float64\n",
      "dtype after:  float32\n",
      "******************************\n",
      "******************************\n",
      "Column:  distance_4\n",
      "dtype before:  float64\n",
      "dtype after:  float32\n",
      "******************************\n",
      "******************************\n",
      "Column:  distance_5\n",
      "dtype before:  float64\n",
      "dtype after:  float32\n",
      "******************************\n",
      "******************************\n",
      "Column:  distance_6\n",
      "dtype before:  float64\n",
      "dtype after:  float32\n",
      "******************************\n",
      "******************************\n",
      "Column:  distance_7\n",
      "dtype before:  float64\n",
      "dtype after:  float32\n",
      "******************************\n",
      "******************************\n",
      "Column:  distance_8\n",
      "dtype before:  float64\n",
      "dtype after:  float32\n",
      "******************************\n",
      "******************************\n",
      "Column:  distance_9\n",
      "dtype before:  float64\n",
      "dtype after:  float32\n",
      "******************************\n",
      "******************************\n",
      "Column:  value_0\n",
      "dtype before:  float64\n",
      "dtype after:  float32\n",
      "******************************\n",
      "******************************\n",
      "Column:  value_1\n",
      "dtype before:  float64\n",
      "dtype after:  float32\n",
      "******************************\n",
      "******************************\n",
      "Column:  value_2\n",
      "dtype before:  float64\n",
      "dtype after:  float32\n",
      "******************************\n",
      "******************************\n",
      "Column:  value_3\n",
      "dtype before:  float64\n",
      "dtype after:  float32\n",
      "******************************\n",
      "******************************\n",
      "Column:  value_4\n",
      "dtype before:  float64\n",
      "dtype after:  float32\n",
      "******************************\n",
      "******************************\n",
      "Column:  value_5\n",
      "dtype before:  float64\n",
      "dtype after:  float32\n",
      "******************************\n",
      "******************************\n",
      "Column:  value_6\n",
      "dtype before:  float64\n",
      "dtype after:  float32\n",
      "******************************\n",
      "******************************\n",
      "Column:  value_7\n",
      "dtype before:  float64\n",
      "dtype after:  float32\n",
      "******************************\n",
      "******************************\n",
      "Column:  value_8\n",
      "dtype before:  float64\n",
      "dtype after:  float32\n",
      "******************************\n",
      "******************************\n",
      "Column:  value_9\n",
      "dtype before:  float64\n",
      "dtype after:  float32\n",
      "******************************\n",
      "___MEMORY USAGE AFTER COMPLETION:___\n",
      "Memory usage is:  33.27729511260986  MB\n",
      "This is  48.95839062534024 % of the initial size\n",
      "Memory usage of properties dataframe is : 53.0438232421875  MB\n",
      "******************************\n",
      "Column:  value_0\n",
      "dtype before:  float64\n",
      "dtype after:  float32\n",
      "******************************\n",
      "******************************\n",
      "Column:  value_1\n",
      "dtype before:  float64\n",
      "dtype after:  float32\n",
      "******************************\n",
      "******************************\n",
      "Column:  value_2\n",
      "dtype before:  float64\n",
      "dtype after:  float32\n",
      "******************************\n",
      "******************************\n",
      "Column:  value_3\n",
      "dtype before:  float64\n",
      "dtype after:  float32\n",
      "******************************\n",
      "******************************\n",
      "Column:  value_4\n",
      "dtype before:  float64\n",
      "dtype after:  float32\n",
      "******************************\n",
      "******************************\n",
      "Column:  value_5\n",
      "dtype before:  float64\n",
      "dtype after:  float32\n",
      "******************************\n",
      "******************************\n",
      "Column:  value_6\n",
      "dtype before:  float64\n",
      "dtype after:  float32\n",
      "******************************\n",
      "******************************\n",
      "Column:  value_7\n",
      "dtype before:  float64\n",
      "dtype after:  float32\n",
      "******************************\n",
      "******************************\n",
      "Column:  value_8\n",
      "dtype before:  float64\n",
      "dtype after:  float32\n",
      "******************************\n",
      "******************************\n",
      "Column:  value_9\n",
      "dtype before:  float64\n",
      "dtype after:  float32\n",
      "******************************\n",
      "___MEMORY USAGE AFTER COMPLETION:___\n",
      "Memory usage is:  26.521949768066406  MB\n",
      "This is  50.000071915956134 % of the initial size\n",
      "Memory usage of properties dataframe is : 31.826324462890625  MB\n",
      "******************************\n",
      "Column:  roads_length_25\n",
      "dtype before:  float64\n",
      "dtype after:  float32\n",
      "******************************\n",
      "******************************\n",
      "Column:  roads_length_100\n",
      "dtype before:  float64\n",
      "dtype after:  float32\n",
      "******************************\n",
      "******************************\n",
      "Column:  roads_length_500\n",
      "dtype before:  float64\n",
      "dtype after:  float32\n",
      "******************************\n",
      "******************************\n",
      "Column:  major_roads_length_25\n",
      "dtype before:  float64\n",
      "dtype after:  float32\n",
      "******************************\n",
      "******************************\n",
      "Column:  major_roads_length_100\n",
      "dtype before:  float64\n",
      "dtype after:  float32\n",
      "******************************\n",
      "******************************\n",
      "Column:  major_roads_length_500\n",
      "dtype before:  float64\n",
      "dtype after:  float32\n",
      "******************************\n",
      "___MEMORY USAGE AFTER COMPLETION:___\n",
      "Memory usage is:  15.913200378417969  MB\n",
      "This is  50.00011985981197 % of the initial size\n",
      "Memory usage of properties dataframe is : 42.43507385253906  MB\n",
      "******************************\n",
      "Column:  hdres_100\n",
      "dtype before:  float64\n",
      "dtype after:  float32\n",
      "******************************\n",
      "******************************\n",
      "Column:  hdres_500\n",
      "dtype before:  float64\n",
      "dtype after:  float32\n",
      "******************************\n",
      "******************************\n",
      "Column:  ldres_100\n",
      "dtype before:  float64\n",
      "dtype after:  float32\n",
      "******************************\n",
      "******************************\n",
      "Column:  ldres_500\n",
      "dtype before:  float64\n",
      "dtype after:  float32\n",
      "******************************\n",
      "******************************\n",
      "Column:  industry_100\n",
      "dtype before:  float64\n",
      "dtype after:  float32\n",
      "******************************\n",
      "******************************\n",
      "Column:  industry_500\n",
      "dtype before:  float64\n",
      "dtype after:  float32\n",
      "******************************\n",
      "******************************\n",
      "Column:  urbgreen_100\n",
      "dtype before:  float64\n",
      "dtype after:  float32\n",
      "******************************\n",
      "******************************\n",
      "Column:  urbgreen_500\n",
      "dtype before:  float64\n",
      "dtype after:  float32\n",
      "******************************\n",
      "___MEMORY USAGE AFTER COMPLETION:___\n",
      "Memory usage is:  21.217575073242188  MB\n",
      "This is  50.00008989491285 % of the initial size\n"
     ]
    }
   ],
   "source": [
    "data_test, NAlist = reduce_mem_usage(data_test)\n",
    "data_Readings, NAlist = reduce_mem_usage(data_Readings)\n",
    "data_Roads, NAlist = reduce_mem_usage(data_Roads)\n",
    "data_Land_Use, NAlist = reduce_mem_usage(data_Land_Use)\n"
   ]
  },
  {
   "cell_type": "markdown",
   "metadata": {},
   "source": [
    "#### Data set fields"
   ]
  },
  {
   "cell_type": "code",
   "execution_count": 133,
   "metadata": {},
   "outputs": [
    {
     "data": {
      "text/plain": [
       "Index(['ID', 'station_id', 'hdres_100', 'hdres_500', 'ldres_100', 'ldres_500',\n",
       "       'industry_100', 'industry_500', 'urbgreen_100', 'urbgreen_500',\n",
       "       'roads_length_25', 'roads_length_100', 'roads_length_500',\n",
       "       'major_roads_length_25', 'major_roads_length_100',\n",
       "       'major_roads_length_500', 'distance_0', 'distance_1', 'distance_2',\n",
       "       'distance_3', 'distance_4', 'distance_5', 'distance_6', 'distance_7',\n",
       "       'distance_8', 'distance_9', 'value_0', 'value_1', 'value_2', 'value_3',\n",
       "       'value_4', 'value_5', 'value_6', 'value_7', 'value_8', 'value_9'],\n",
       "      dtype='object')"
      ]
     },
     "execution_count": 133,
     "metadata": {},
     "output_type": "execute_result"
    }
   ],
   "source": [
    "data_input.columns"
   ]
  },
  {
   "cell_type": "code",
   "execution_count": 134,
   "metadata": {
    "scrolled": true
   },
   "outputs": [
    {
     "name": "stdout",
     "output_type": "stream",
     "text": [
      "36\n"
     ]
    }
   ],
   "source": [
    "print(len(data_input.columns))"
   ]
  },
  {
   "cell_type": "markdown",
   "metadata": {},
   "source": [
    " <a id=\"43\"></a> <br>\n",
    "## 4-3 Visualization"
   ]
  },
  {
   "cell_type": "markdown",
   "metadata": {},
   "source": [
    "### Plot the evolution of PM10 concentration at each station"
   ]
  },
  {
   "cell_type": "code",
   "execution_count": 14,
   "metadata": {},
   "outputs": [
    {
     "data": {
      "text/plain": [
       "85    8779\n",
       "34    8779\n",
       "64    8779\n",
       "30    8779\n",
       "66    8779\n",
       "Name: station_id, dtype: int64"
      ]
     },
     "execution_count": 14,
     "metadata": {},
     "output_type": "execute_result"
    }
   ],
   "source": [
    "data['station_id'].value_counts().head()"
   ]
  },
  {
   "cell_type": "code",
   "execution_count": 15,
   "metadata": {},
   "outputs": [],
   "source": [
    "data_vis = pd.concat([data.station_id,data.value], axis=1)\n",
    "data_vis2 = data_vis[data_vis['station_id']==28]\n",
    "data_vis3 =  data_vis[data_vis['station_id']==3]"
   ]
  },
  {
   "cell_type": "code",
   "execution_count": 16,
   "metadata": {},
   "outputs": [
    {
     "data": {
      "text/plain": [
       "(0, 300)"
      ]
     },
     "execution_count": 16,
     "metadata": {},
     "output_type": "execute_result"
    },
    {
     "data": {
      "image/png": "[encoded data removed]",
      "text/plain": [
       "<Figure size 1080x576 with 1 Axes>"
      ]
     },
     "metadata": {},
     "output_type": "display_data"
    }
   ],
   "source": [
    "x = np.arange(0,8779)\n",
    "fig, ax1 = plt.subplots(figsize=(15,8))\n",
    "ax1.plot(x,data_vis2.value, label='Station ID = 28')\n",
    "ax1.plot(x,data_vis3.value, label='Station ID = 3')\n",
    "plt.legend(bbox_to_anchor=(1.05, 1), loc=2, borderaxespad=0.)\n",
    "fig.suptitle(\"The evolution of PM10 concentration at Station 28 & 3 \", fontsize=20)\n",
    "ax1.set_ylabel('PM10 concentration', color='black', fontsize=12)\n",
    "ax1.tick_params(axis='y', colors='black')\n",
    "ax1.set_xlabel('Time (Number of hours)', color='black', fontsize=12)\n",
    "ax1.tick_params(axis='x', colors='black')\n",
    "ax1.set_xlim(0,300)"
   ]
  },
  {
   "cell_type": "markdown",
   "metadata": {},
   "source": [
    "For each station, we can observe many amplitudes of oscillations."
   ]
  },
  {
   "cell_type": "markdown",
   "metadata": {},
   "source": [
    "### Histogram Distribution Plots"
   ]
  },
  {
   "cell_type": "code",
   "execution_count": 18,
   "metadata": {
    "scrolled": true
   },
   "outputs": [
    {
     "data": {
      "text/plain": [
       "array([[<matplotlib.axes._subplots.AxesSubplot object at 0x0000022CABFD77B8>,\n",
       "        <matplotlib.axes._subplots.AxesSubplot object at 0x0000022CABFE5278>,\n",
       "        <matplotlib.axes._subplots.AxesSubplot object at 0x0000022CAC00ABA8>],\n",
       "       [<matplotlib.axes._subplots.AxesSubplot object at 0x0000022CAC03A550>,\n",
       "        <matplotlib.axes._subplots.AxesSubplot object at 0x0000022CAC05EEB8>,\n",
       "        <matplotlib.axes._subplots.AxesSubplot object at 0x0000022CAC08B860>],\n",
       "       [<matplotlib.axes._subplots.AxesSubplot object at 0x0000022CAC0BA208>,\n",
       "        <matplotlib.axes._subplots.AxesSubplot object at 0x0000022CAC0DDBA8>,\n",
       "        <matplotlib.axes._subplots.AxesSubplot object at 0x0000022CAC0DDBE0>]],\n",
       "      dtype=object)"
      ]
     },
     "execution_count": 18,
     "metadata": {},
     "output_type": "execute_result"
    },
    {
     "data": {
      "image/png": "[encoded data removed]",
      "text/plain": [
       "<Figure size 1080x1080 with 9 Axes>"
      ]
     },
     "metadata": {},
     "output_type": "display_data"
    }
   ],
   "source": [
    "data_Land_Use.hist(figsize=(15,15),bins=10, color='g')"
   ]
  },
  {
   "cell_type": "code",
   "execution_count": 19,
   "metadata": {
    "scrolled": true
   },
   "outputs": [
    {
     "data": {
      "text/plain": [
       "array([[<matplotlib.axes._subplots.AxesSubplot object at 0x0000022CABFC9278>,\n",
       "        <matplotlib.axes._subplots.AxesSubplot object at 0x0000022CAC332908>],\n",
       "       [<matplotlib.axes._subplots.AxesSubplot object at 0x0000022CACB38278>,\n",
       "        <matplotlib.axes._subplots.AxesSubplot object at 0x0000022CACB5EBE0>],\n",
       "       [<matplotlib.axes._subplots.AxesSubplot object at 0x0000022CACB8A588>,\n",
       "        <matplotlib.axes._subplots.AxesSubplot object at 0x0000022CACBAFEF0>]],\n",
       "      dtype=object)"
      ]
     },
     "execution_count": 19,
     "metadata": {},
     "output_type": "execute_result"
    },
    {
     "data": {
      "image/png": "[encoded data removed]",
      "text/plain": [
       "<Figure size 720x720 with 6 Axes>"
      ]
     },
     "metadata": {},
     "output_type": "display_data"
    }
   ],
   "source": [
    "data_Roads.hist(figsize=(10,10),bins=10, color='gray')"
   ]
  },
  {
   "cell_type": "code",
   "execution_count": 102,
   "metadata": {
    "scrolled": true
   },
   "outputs": [
    {
     "data": {
      "text/plain": [
       "array([[<matplotlib.axes._subplots.AxesSubplot object at 0x000001F7918B5F28>,\n",
       "        <matplotlib.axes._subplots.AxesSubplot object at 0x000001F7B1214EB8>,\n",
       "        <matplotlib.axes._subplots.AxesSubplot object at 0x000001F790A14828>],\n",
       "       [<matplotlib.axes._subplots.AxesSubplot object at 0x000001F7909201D0>,\n",
       "        <matplotlib.axes._subplots.AxesSubplot object at 0x000001F7AAD09B38>,\n",
       "        <matplotlib.axes._subplots.AxesSubplot object at 0x000001F7B12614E0>],\n",
       "       [<matplotlib.axes._subplots.AxesSubplot object at 0x000001F7A5769E48>,\n",
       "        <matplotlib.axes._subplots.AxesSubplot object at 0x000001F7B1441828>,\n",
       "        <matplotlib.axes._subplots.AxesSubplot object at 0x000001F7B1441860>],\n",
       "       [<matplotlib.axes._subplots.AxesSubplot object at 0x000001F7A5733B00>,\n",
       "        <matplotlib.axes._subplots.AxesSubplot object at 0x000001F7A57A24A8>,\n",
       "        <matplotlib.axes._subplots.AxesSubplot object at 0x000001F7A53A8E10>]],\n",
       "      dtype=object)"
      ]
     },
     "execution_count": 102,
     "metadata": {},
     "output_type": "execute_result"
    },
    {
     "data": {
      "image/png": "[encoded data removed]",
      "text/plain": [
       "<Figure size 1080x720 with 12 Axes>"
      ]
     },
     "metadata": {},
     "output_type": "display_data"
    }
   ],
   "source": [
    "data_Readings.hist(figsize=(15,10),bins=50, color='r')"
   ]
  },
  {
   "cell_type": "markdown",
   "metadata": {},
   "source": []
  },
  {
   "cell_type": "code",
   "execution_count": 107,
   "metadata": {},
   "outputs": [
    {
     "data": {
      "text/plain": [
       "<matplotlib.axes._subplots.AxesSubplot at 0x1f7b4d1b748>"
      ]
     },
     "execution_count": 107,
     "metadata": {},
     "output_type": "execute_result"
    },
    {
     "data": {
      "image/png": "[encoded data removed]",
      "text/plain": [
       "<Figure size 1296x504 with 1 Axes>"
      ]
     },
     "metadata": {},
     "output_type": "display_data"
    }
   ],
   "source": [
    "plt.figure(figsize=(18,7))\n",
    "plt.title(\"Box plot for the value of some stations\")\n",
    "data_boxplot=data.loc[0:30000,:]\n",
    "sns.boxplot(y=\"station_id\", x=\"value\", data = data_boxplot , orient=\"h\", palette = 'rainbow')"
   ]
  },
  {
   "cell_type": "code",
   "execution_count": 35,
   "metadata": {
    "scrolled": true
   },
   "outputs": [
    {
     "data": {
      "text/plain": [
       "(0, 120)"
      ]
     },
     "execution_count": 35,
     "metadata": {},
     "output_type": "execute_result"
    },
    {
     "data": {
      "image/png": "[encoded data removed]",
      "text/plain": [
       "<Figure size 576x432 with 1 Axes>"
      ]
     },
     "metadata": {},
     "output_type": "display_data"
    }
   ],
   "source": [
    "fig, ax1 = plt.subplots(figsize=(8,6))\n",
    "data['value'].hist(figsize=(8,6),bins=50, ax=ax1, color='r')\n",
    "ax1.set_xlim(0,120)"
   ]
  },
  {
   "cell_type": "markdown",
   "metadata": {},
   "source": [
    "Now let's calculate the Skewness and Kurtosis :"
   ]
  },
  {
   "cell_type": "code",
   "execution_count": 21,
   "metadata": {
    "scrolled": true
   },
   "outputs": [
    {
     "name": "stdout",
     "output_type": "stream",
     "text": [
      "Skewness: 3.337862\n",
      "Kurtosis: 34.961417\n"
     ]
    }
   ],
   "source": [
    "#skewness & kurtosis\n",
    "print(\"Skewness: %f\" % data['value'].skew())\n",
    "print(\"Kurtosis: %f\" % data['value'].kurt())"
   ]
  },
  {
   "cell_type": "markdown",
   "metadata": {},
   "source": [
    "As we've seen before, there are so many columns to work with, so let's try to figure out the correlations to get a better idea of which columns are strongly related to the **Value column** corresponding to the **Spatiotemporal PM10** concentration."
   ]
  },
  {
   "cell_type": "markdown",
   "metadata": {},
   "source": [
    "### Correlation Matrix plots"
   ]
  },
  {
   "cell_type": "code",
   "execution_count": 25,
   "metadata": {},
   "outputs": [
    {
     "data": {
      "image/png": "[encoded data removed]",
      "text/plain": [
       "<Figure size 2160x1368 with 2 Axes>"
      ]
     },
     "metadata": {},
     "output_type": "display_data"
    }
   ],
   "source": [
    "#correlation matrix\n",
    "corrmat = data.corr()\n",
    "\n",
    "#Plot a heatmap to visualize the correlations\n",
    "f, ax = plt.subplots(figsize=(30, 19))\n",
    "sns.set(font_scale=1.45)\n",
    "sns.heatmap(corrmat, square=True,cmap='coolwarm');"
   ]
  },
  {
   "cell_type": "code",
   "execution_count": 30,
   "metadata": {
    "scrolled": false
   },
   "outputs": [
    {
     "data": {
      "text/plain": [
       "value                     1.000000000000000\n",
       "value_4                   0.722658067669201\n",
       "value_3                   0.705146558073952\n",
       "value_1                   0.705131904114127\n",
       "value_0                   0.705016029084346\n",
       "value_2                   0.694475520323267\n",
       "value_5                   0.656449514306592\n",
       "value_6                   0.559368929485775\n",
       "value_7                   0.558495496253862\n",
       "value_8                   0.506015984619949\n",
       "value_9                   0.504334150239756\n",
       "hdres_500                 0.085811401362968\n",
       "hdres_100                 0.083033223927991\n",
       "major_roads_length_500    0.068804026862753\n",
       "major_roads_length_25     0.055560715870499\n",
       "roads_length_500          0.052817879404106\n",
       "major_roads_length_100    0.042143907645803\n",
       "roads_length_25           0.041886508248402\n",
       "roads_length_100          0.037780296134494\n",
       "Name: value, dtype: float64"
      ]
     },
     "execution_count": 30,
     "metadata": {},
     "output_type": "execute_result"
    }
   ],
   "source": [
    "correlations = corrmat[\"value\"].sort_values(ascending=False)\n",
    "correlations[0:19]"
   ]
  },
  {
   "cell_type": "markdown",
   "metadata": {},
   "source": [
    "### Permutation Importance\n",
    "\n",
    " <img src=\"https://i.imgur.com/h17tMUU.png\">\n",
    " \n",
    " In this section we will answer following question:\n",
    " 1. What features have the biggest impact on predictions?\n",
    " 1. how to extract insights from models?"
   ]
  },
  {
   "cell_type": "markdown",
   "metadata": {},
   "source": [
    "#### Prepare our data for our model"
   ]
  },
  {
   "cell_type": "code",
   "execution_count": 135,
   "metadata": {},
   "outputs": [],
   "source": [
    "cols=[\"value\",\"station_id\",\"ID\"]\n",
    "X = data.drop(cols,axis=1)\n",
    "y = data[\"value\"]"
   ]
  },
  {
   "cell_type": "markdown",
   "metadata": {},
   "source": [
    "#### Create  a sample model to calculate which feature are more important."
   ]
  },
  {
   "cell_type": "code",
   "execution_count": 136,
   "metadata": {},
   "outputs": [],
   "source": [
    "train_X, val_X, train_y, val_y = train_test_split(X, y, random_state=1)\n",
    "rfc_model = RandomForestRegressor(random_state=0).fit(train_X, train_y)"
   ]
  },
  {
   "cell_type": "markdown",
   "metadata": {},
   "source": [
    "#### Here is how to calculate and show importances with the [eli5](https://eli5.readthedocs.io/en/latest/) library:"
   ]
  },
  {
   "cell_type": "code",
   "execution_count": 137,
   "metadata": {},
   "outputs": [
    {
     "data": {
      "text/html": [
       "\n",
       "    <style>\n",
       "    table.eli5-weights tr:hover {\n",
       "        filter: brightness(85%);\n",
       "    }\n",
       "</style>\n",
       "\n",
       "\n",
       "\n",
       "    \n",
       "\n",
       "    \n",
       "\n",
       "    \n",
       "\n",
       "    \n",
       "\n",
       "    \n",
       "\n",
       "    \n",
       "\n",
       "\n",
       "    \n",
       "\n",
       "    \n",
       "\n",
       "    \n",
       "\n",
       "    \n",
       "\n",
       "    \n",
       "\n",
       "    \n",
       "\n",
       "\n",
       "    \n",
       "\n",
       "    \n",
       "\n",
       "    \n",
       "\n",
       "    \n",
       "\n",
       "    \n",
       "        <table class=\"eli5-weights eli5-feature-importances\" style=\"border-collapse: collapse; border: none; margin-top: 0em; table-layout: auto;\">\n",
       "    <thead>\n",
       "    <tr style=\"border: none;\">\n",
       "        <th style=\"padding: 0 1em 0 0.5em; text-align: right; border: none;\">Weight</th>\n",
       "        <th style=\"padding: 0 0.5em 0 0.5em; text-align: left; border: none;\">Feature</th>\n",
       "    </tr>\n",
       "    </thead>\n",
       "    <tbody>\n",
       "    \n",
       "        <tr style=\"background-color: hsl(120, 100.00%, 80.00%); border: none;\">\n",
       "            <td style=\"padding: 0 1em 0 0.5em; text-align: right; border: none;\">\n",
       "                0.2055\n",
       "                \n",
       "                    &plusmn; 0.0088\n",
       "                \n",
       "            </td>\n",
       "            <td style=\"padding: 0 0.5em 0 0.5em; text-align: left; border: none;\">\n",
       "                value_0\n",
       "            </td>\n",
       "        </tr>\n",
       "    \n",
       "        <tr style=\"background-color: hsl(120, 100.00%, 84.83%); border: none;\">\n",
       "            <td style=\"padding: 0 1em 0 0.5em; text-align: right; border: none;\">\n",
       "                0.1384\n",
       "                \n",
       "                    &plusmn; 0.0032\n",
       "                \n",
       "            </td>\n",
       "            <td style=\"padding: 0 0.5em 0 0.5em; text-align: left; border: none;\">\n",
       "                value_4\n",
       "            </td>\n",
       "        </tr>\n",
       "    \n",
       "        <tr style=\"background-color: hsl(120, 100.00%, 87.64%); border: none;\">\n",
       "            <td style=\"padding: 0 1em 0 0.5em; text-align: right; border: none;\">\n",
       "                0.1034\n",
       "                \n",
       "                    &plusmn; 0.0073\n",
       "                \n",
       "            </td>\n",
       "            <td style=\"padding: 0 0.5em 0 0.5em; text-align: left; border: none;\">\n",
       "                value_3\n",
       "            </td>\n",
       "        </tr>\n",
       "    \n",
       "        <tr style=\"background-color: hsl(120, 100.00%, 90.48%); border: none;\">\n",
       "            <td style=\"padding: 0 1em 0 0.5em; text-align: right; border: none;\">\n",
       "                0.0711\n",
       "                \n",
       "                    &plusmn; 0.0038\n",
       "                \n",
       "            </td>\n",
       "            <td style=\"padding: 0 0.5em 0 0.5em; text-align: left; border: none;\">\n",
       "                value_1\n",
       "            </td>\n",
       "        </tr>\n",
       "    \n",
       "        <tr style=\"background-color: hsl(120, 100.00%, 90.71%); border: none;\">\n",
       "            <td style=\"padding: 0 1em 0 0.5em; text-align: right; border: none;\">\n",
       "                0.0687\n",
       "                \n",
       "                    &plusmn; 0.0025\n",
       "                \n",
       "            </td>\n",
       "            <td style=\"padding: 0 0.5em 0 0.5em; text-align: left; border: none;\">\n",
       "                major_roads_length_25\n",
       "            </td>\n",
       "        </tr>\n",
       "    \n",
       "        <tr style=\"background-color: hsl(120, 100.00%, 93.38%); border: none;\">\n",
       "            <td style=\"padding: 0 1em 0 0.5em; text-align: right; border: none;\">\n",
       "                0.0423\n",
       "                \n",
       "                    &plusmn; 0.0050\n",
       "                \n",
       "            </td>\n",
       "            <td style=\"padding: 0 0.5em 0 0.5em; text-align: left; border: none;\">\n",
       "                value_5\n",
       "            </td>\n",
       "        </tr>\n",
       "    \n",
       "        <tr style=\"background-color: hsl(120, 100.00%, 93.55%); border: none;\">\n",
       "            <td style=\"padding: 0 1em 0 0.5em; text-align: right; border: none;\">\n",
       "                0.0408\n",
       "                \n",
       "                    &plusmn; 0.0028\n",
       "                \n",
       "            </td>\n",
       "            <td style=\"padding: 0 0.5em 0 0.5em; text-align: left; border: none;\">\n",
       "                value_2\n",
       "            </td>\n",
       "        </tr>\n",
       "    \n",
       "        <tr style=\"background-color: hsl(120, 100.00%, 94.77%); border: none;\">\n",
       "            <td style=\"padding: 0 1em 0 0.5em; text-align: right; border: none;\">\n",
       "                0.0302\n",
       "                \n",
       "                    &plusmn; 0.0010\n",
       "                \n",
       "            </td>\n",
       "            <td style=\"padding: 0 0.5em 0 0.5em; text-align: left; border: none;\">\n",
       "                distance_1\n",
       "            </td>\n",
       "        </tr>\n",
       "    \n",
       "        <tr style=\"background-color: hsl(120, 100.00%, 95.15%); border: none;\">\n",
       "            <td style=\"padding: 0 1em 0 0.5em; text-align: right; border: none;\">\n",
       "                0.0272\n",
       "                \n",
       "                    &plusmn; 0.0011\n",
       "                \n",
       "            </td>\n",
       "            <td style=\"padding: 0 0.5em 0 0.5em; text-align: left; border: none;\">\n",
       "                value_8\n",
       "            </td>\n",
       "        </tr>\n",
       "    \n",
       "        <tr style=\"background-color: hsl(120, 100.00%, 95.19%); border: none;\">\n",
       "            <td style=\"padding: 0 1em 0 0.5em; text-align: right; border: none;\">\n",
       "                0.0268\n",
       "                \n",
       "                    &plusmn; 0.0020\n",
       "                \n",
       "            </td>\n",
       "            <td style=\"padding: 0 0.5em 0 0.5em; text-align: left; border: none;\">\n",
       "                major_roads_length_500\n",
       "            </td>\n",
       "        </tr>\n",
       "    \n",
       "        <tr style=\"background-color: hsl(120, 100.00%, 95.55%); border: none;\">\n",
       "            <td style=\"padding: 0 1em 0 0.5em; text-align: right; border: none;\">\n",
       "                0.0240\n",
       "                \n",
       "                    &plusmn; 0.0051\n",
       "                \n",
       "            </td>\n",
       "            <td style=\"padding: 0 0.5em 0 0.5em; text-align: left; border: none;\">\n",
       "                value_9\n",
       "            </td>\n",
       "        </tr>\n",
       "    \n",
       "        <tr style=\"background-color: hsl(120, 100.00%, 95.72%); border: none;\">\n",
       "            <td style=\"padding: 0 1em 0 0.5em; text-align: right; border: none;\">\n",
       "                0.0227\n",
       "                \n",
       "                    &plusmn; 0.0013\n",
       "                \n",
       "            </td>\n",
       "            <td style=\"padding: 0 0.5em 0 0.5em; text-align: left; border: none;\">\n",
       "                value_7\n",
       "            </td>\n",
       "        </tr>\n",
       "    \n",
       "        <tr style=\"background-color: hsl(120, 100.00%, 96.01%); border: none;\">\n",
       "            <td style=\"padding: 0 1em 0 0.5em; text-align: right; border: none;\">\n",
       "                0.0206\n",
       "                \n",
       "                    &plusmn; 0.0011\n",
       "                \n",
       "            </td>\n",
       "            <td style=\"padding: 0 0.5em 0 0.5em; text-align: left; border: none;\">\n",
       "                major_roads_length_100\n",
       "            </td>\n",
       "        </tr>\n",
       "    \n",
       "        <tr style=\"background-color: hsl(120, 100.00%, 96.15%); border: none;\">\n",
       "            <td style=\"padding: 0 1em 0 0.5em; text-align: right; border: none;\">\n",
       "                0.0195\n",
       "                \n",
       "                    &plusmn; 0.0004\n",
       "                \n",
       "            </td>\n",
       "            <td style=\"padding: 0 0.5em 0 0.5em; text-align: left; border: none;\">\n",
       "                roads_length_100\n",
       "            </td>\n",
       "        </tr>\n",
       "    \n",
       "        <tr style=\"background-color: hsl(120, 100.00%, 96.45%); border: none;\">\n",
       "            <td style=\"padding: 0 1em 0 0.5em; text-align: right; border: none;\">\n",
       "                0.0174\n",
       "                \n",
       "                    &plusmn; 0.0016\n",
       "                \n",
       "            </td>\n",
       "            <td style=\"padding: 0 0.5em 0 0.5em; text-align: left; border: none;\">\n",
       "                value_6\n",
       "            </td>\n",
       "        </tr>\n",
       "    \n",
       "        <tr style=\"background-color: hsl(120, 100.00%, 97.30%); border: none;\">\n",
       "            <td style=\"padding: 0 1em 0 0.5em; text-align: right; border: none;\">\n",
       "                0.0117\n",
       "                \n",
       "                    &plusmn; 0.0007\n",
       "                \n",
       "            </td>\n",
       "            <td style=\"padding: 0 0.5em 0 0.5em; text-align: left; border: none;\">\n",
       "                roads_length_25\n",
       "            </td>\n",
       "        </tr>\n",
       "    \n",
       "        <tr style=\"background-color: hsl(120, 100.00%, 97.50%); border: none;\">\n",
       "            <td style=\"padding: 0 1em 0 0.5em; text-align: right; border: none;\">\n",
       "                0.0105\n",
       "                \n",
       "                    &plusmn; 0.0006\n",
       "                \n",
       "            </td>\n",
       "            <td style=\"padding: 0 0.5em 0 0.5em; text-align: left; border: none;\">\n",
       "                urbgreen_500\n",
       "            </td>\n",
       "        </tr>\n",
       "    \n",
       "        <tr style=\"background-color: hsl(120, 100.00%, 97.61%); border: none;\">\n",
       "            <td style=\"padding: 0 1em 0 0.5em; text-align: right; border: none;\">\n",
       "                0.0099\n",
       "                \n",
       "                    &plusmn; 0.0004\n",
       "                \n",
       "            </td>\n",
       "            <td style=\"padding: 0 0.5em 0 0.5em; text-align: left; border: none;\">\n",
       "                roads_length_500\n",
       "            </td>\n",
       "        </tr>\n",
       "    \n",
       "        <tr style=\"background-color: hsl(120, 100.00%, 97.76%); border: none;\">\n",
       "            <td style=\"padding: 0 1em 0 0.5em; text-align: right; border: none;\">\n",
       "                0.0090\n",
       "                \n",
       "                    &plusmn; 0.0009\n",
       "                \n",
       "            </td>\n",
       "            <td style=\"padding: 0 0.5em 0 0.5em; text-align: left; border: none;\">\n",
       "                industry_500\n",
       "            </td>\n",
       "        </tr>\n",
       "    \n",
       "        <tr style=\"background-color: hsl(120, 100.00%, 97.85%); border: none;\">\n",
       "            <td style=\"padding: 0 1em 0 0.5em; text-align: right; border: none;\">\n",
       "                0.0085\n",
       "                \n",
       "                    &plusmn; 0.0006\n",
       "                \n",
       "            </td>\n",
       "            <td style=\"padding: 0 0.5em 0 0.5em; text-align: left; border: none;\">\n",
       "                distance_8\n",
       "            </td>\n",
       "        </tr>\n",
       "    \n",
       "        <tr style=\"background-color: hsl(120, 100.00%, 97.98%); border: none;\">\n",
       "            <td style=\"padding: 0 1em 0 0.5em; text-align: right; border: none;\">\n",
       "                0.0078\n",
       "                \n",
       "                    &plusmn; 0.0003\n",
       "                \n",
       "            </td>\n",
       "            <td style=\"padding: 0 0.5em 0 0.5em; text-align: left; border: none;\">\n",
       "                distance_9\n",
       "            </td>\n",
       "        </tr>\n",
       "    \n",
       "        <tr style=\"background-color: hsl(120, 100.00%, 98.07%); border: none;\">\n",
       "            <td style=\"padding: 0 1em 0 0.5em; text-align: right; border: none;\">\n",
       "                0.0073\n",
       "                \n",
       "                    &plusmn; 0.0006\n",
       "                \n",
       "            </td>\n",
       "            <td style=\"padding: 0 0.5em 0 0.5em; text-align: left; border: none;\">\n",
       "                distance_6\n",
       "            </td>\n",
       "        </tr>\n",
       "    \n",
       "        <tr style=\"background-color: hsl(120, 100.00%, 98.25%); border: none;\">\n",
       "            <td style=\"padding: 0 1em 0 0.5em; text-align: right; border: none;\">\n",
       "                0.0063\n",
       "                \n",
       "                    &plusmn; 0.0003\n",
       "                \n",
       "            </td>\n",
       "            <td style=\"padding: 0 0.5em 0 0.5em; text-align: left; border: none;\">\n",
       "                distance_4\n",
       "            </td>\n",
       "        </tr>\n",
       "    \n",
       "        <tr style=\"background-color: hsl(120, 100.00%, 98.36%); border: none;\">\n",
       "            <td style=\"padding: 0 1em 0 0.5em; text-align: right; border: none;\">\n",
       "                0.0058\n",
       "                \n",
       "                    &plusmn; 0.0007\n",
       "                \n",
       "            </td>\n",
       "            <td style=\"padding: 0 0.5em 0 0.5em; text-align: left; border: none;\">\n",
       "                distance_0\n",
       "            </td>\n",
       "        </tr>\n",
       "    \n",
       "        <tr style=\"background-color: hsl(120, 100.00%, 98.49%); border: none;\">\n",
       "            <td style=\"padding: 0 1em 0 0.5em; text-align: right; border: none;\">\n",
       "                0.0051\n",
       "                \n",
       "                    &plusmn; 0.0003\n",
       "                \n",
       "            </td>\n",
       "            <td style=\"padding: 0 0.5em 0 0.5em; text-align: left; border: none;\">\n",
       "                ldres_500\n",
       "            </td>\n",
       "        </tr>\n",
       "    \n",
       "        <tr style=\"background-color: hsl(120, 100.00%, 98.57%); border: none;\">\n",
       "            <td style=\"padding: 0 1em 0 0.5em; text-align: right; border: none;\">\n",
       "                0.0048\n",
       "                \n",
       "                    &plusmn; 0.0004\n",
       "                \n",
       "            </td>\n",
       "            <td style=\"padding: 0 0.5em 0 0.5em; text-align: left; border: none;\">\n",
       "                distance_3\n",
       "            </td>\n",
       "        </tr>\n",
       "    \n",
       "        <tr style=\"background-color: hsl(120, 100.00%, 98.61%); border: none;\">\n",
       "            <td style=\"padding: 0 1em 0 0.5em; text-align: right; border: none;\">\n",
       "                0.0045\n",
       "                \n",
       "                    &plusmn; 0.0005\n",
       "                \n",
       "            </td>\n",
       "            <td style=\"padding: 0 0.5em 0 0.5em; text-align: left; border: none;\">\n",
       "                distance_2\n",
       "            </td>\n",
       "        </tr>\n",
       "    \n",
       "        <tr style=\"background-color: hsl(120, 100.00%, 98.87%); border: none;\">\n",
       "            <td style=\"padding: 0 1em 0 0.5em; text-align: right; border: none;\">\n",
       "                0.0034\n",
       "                \n",
       "                    &plusmn; 0.0007\n",
       "                \n",
       "            </td>\n",
       "            <td style=\"padding: 0 0.5em 0 0.5em; text-align: left; border: none;\">\n",
       "                distance_7\n",
       "            </td>\n",
       "        </tr>\n",
       "    \n",
       "        <tr style=\"background-color: hsl(120, 100.00%, 99.08%); border: none;\">\n",
       "            <td style=\"padding: 0 1em 0 0.5em; text-align: right; border: none;\">\n",
       "                0.0025\n",
       "                \n",
       "                    &plusmn; 0.0002\n",
       "                \n",
       "            </td>\n",
       "            <td style=\"padding: 0 0.5em 0 0.5em; text-align: left; border: none;\">\n",
       "                ldres_100\n",
       "            </td>\n",
       "        </tr>\n",
       "    \n",
       "        <tr style=\"background-color: hsl(120, 100.00%, 99.11%); border: none;\">\n",
       "            <td style=\"padding: 0 1em 0 0.5em; text-align: right; border: none;\">\n",
       "                0.0024\n",
       "                \n",
       "                    &plusmn; 0.0003\n",
       "                \n",
       "            </td>\n",
       "            <td style=\"padding: 0 0.5em 0 0.5em; text-align: left; border: none;\">\n",
       "                hdres_100\n",
       "            </td>\n",
       "        </tr>\n",
       "    \n",
       "        <tr style=\"background-color: hsl(120, 100.00%, 99.14%); border: none;\">\n",
       "            <td style=\"padding: 0 1em 0 0.5em; text-align: right; border: none;\">\n",
       "                0.0023\n",
       "                \n",
       "                    &plusmn; 0.0004\n",
       "                \n",
       "            </td>\n",
       "            <td style=\"padding: 0 0.5em 0 0.5em; text-align: left; border: none;\">\n",
       "                distance_5\n",
       "            </td>\n",
       "        </tr>\n",
       "    \n",
       "        <tr style=\"background-color: hsl(120, 100.00%, 99.16%); border: none;\">\n",
       "            <td style=\"padding: 0 1em 0 0.5em; text-align: right; border: none;\">\n",
       "                0.0022\n",
       "                \n",
       "                    &plusmn; 0.0003\n",
       "                \n",
       "            </td>\n",
       "            <td style=\"padding: 0 0.5em 0 0.5em; text-align: left; border: none;\">\n",
       "                hdres_500\n",
       "            </td>\n",
       "        </tr>\n",
       "    \n",
       "        <tr style=\"background-color: hsl(120, 100.00%, 99.19%); border: none;\">\n",
       "            <td style=\"padding: 0 1em 0 0.5em; text-align: right; border: none;\">\n",
       "                0.0021\n",
       "                \n",
       "                    &plusmn; 0.0003\n",
       "                \n",
       "            </td>\n",
       "            <td style=\"padding: 0 0.5em 0 0.5em; text-align: left; border: none;\">\n",
       "                industry_100\n",
       "            </td>\n",
       "        </tr>\n",
       "    \n",
       "        <tr style=\"background-color: hsl(120, 100.00%, 99.33%); border: none;\">\n",
       "            <td style=\"padding: 0 1em 0 0.5em; text-align: right; border: none;\">\n",
       "                0.0016\n",
       "                \n",
       "                    &plusmn; 0.0002\n",
       "                \n",
       "            </td>\n",
       "            <td style=\"padding: 0 0.5em 0 0.5em; text-align: left; border: none;\">\n",
       "                urbgreen_100\n",
       "            </td>\n",
       "        </tr>\n",
       "    \n",
       "    \n",
       "    </tbody>\n",
       "</table>\n",
       "    \n",
       "\n",
       "    \n",
       "\n",
       "\n",
       "    \n",
       "\n",
       "    \n",
       "\n",
       "    \n",
       "\n",
       "    \n",
       "\n",
       "    \n",
       "\n",
       "    \n",
       "\n",
       "\n",
       "\n"
      ],
      "text/plain": [
       "<IPython.core.display.HTML object>"
      ]
     },
     "execution_count": 137,
     "metadata": {},
     "output_type": "execute_result"
    }
   ],
   "source": [
    "perm = PermutationImportance(rfc_model, random_state=1).fit(val_X, val_y)\n",
    "eli5.show_weights(perm, feature_names = val_X.columns.tolist(), top=150)"
   ]
  },
  {
   "cell_type": "markdown",
   "metadata": {},
   "source": [
    "1. As you move down the top of the graph, the importance of the feature decreases.\n",
    "1. The features that are shown in green indicate that they have a positive impact on our prediction\n",
    "1. The features that are shown in white indicate that they have no effect on our prediction\n",
    "1. The most important feature was **value_0** which is logical because it corresponds to the reading from the nearest station.\n",
    "1. Another thing is the feature **major_roads_length_25** which is more influential than other readings from further stations."
   ]
  },
  {
   "cell_type": "markdown",
   "metadata": {},
   "source": [
    "### Partial Dependence Plot\n",
    "In this section, we see the impact of the main variables discovered in the previous sections by using the [pdpbox](https://pdpbox.readthedocs.io/en/latest/).\n",
    "The goal is to visualize the impact of certain features towards model prediction for the **RandomForestRegressor** we used before."
   ]
  },
  {
   "cell_type": "code",
   "execution_count": 203,
   "metadata": {},
   "outputs": [],
   "source": [
    "features = [c for c in X]\n",
    "\n",
    "def PDP(feature):\n",
    "    # Create the data that we will plot\n",
    "    pdp_goals = pdp.pdp_isolate(model=rfc_model, dataset=val_X, model_features=features, feature=feature)\n",
    "    # plot it\n",
    "    pdp.pdp_plot(pdp_goals, feature, figsize=(12,8))"
   ]
  },
  {
   "cell_type": "code",
   "execution_count": 204,
   "metadata": {},
   "outputs": [
    {
     "data": {
      "image/png": "[encoded data removed]",
      "text/plain": [
       "<Figure size 864x576 with 2 Axes>"
      ]
     },
     "metadata": {},
     "output_type": "display_data"
    }
   ],
   "source": [
    "PDP('value_0')"
   ]
  },
  {
   "cell_type": "markdown",
   "metadata": {},
   "source": [
    "- The y axis is interpreted as change in the prediction from what it would be predicted at the baseline or leftmost value.\n",
    "- A blue shaded area indicates level of confidence\n",
    "\n",
    "We can see that **value_0** has really a great influence on the model prediction. So, there is no need to plot the Partial Dependence for the different readings. Let's see for the other spatial features : "
   ]
  },
  {
   "cell_type": "code",
   "execution_count": 205,
   "metadata": {
    "scrolled": false
   },
   "outputs": [
    {
     "data": {
      "text/plain": [
       "(None, None)"
      ]
     },
     "execution_count": 205,
     "metadata": {},
     "output_type": "execute_result"
    },
    {
     "data": {
      "image/png": "[encoded data removed]",
      "text/plain": [
       "<Figure size 864x576 with 2 Axes>"
      ]
     },
     "metadata": {},
     "output_type": "display_data"
    },
    {
     "data": {
      "image/png": "[encoded data removed]",
      "text/plain": [
       "<Figure size 864x576 with 2 Axes>"
      ]
     },
     "metadata": {},
     "output_type": "display_data"
    }
   ],
   "source": [
    "PDP('major_roads_length_25'),PDP('major_roads_length_500')"
   ]
  },
  {
   "cell_type": "code",
   "execution_count": 206,
   "metadata": {},
   "outputs": [
    {
     "data": {
      "text/plain": [
       "(None, None)"
      ]
     },
     "execution_count": 206,
     "metadata": {},
     "output_type": "execute_result"
    },
    {
     "data": {
      "image/png": "[encoded data removed]",
      "text/plain": [
       "<Figure size 864x576 with 2 Axes>"
      ]
     },
     "metadata": {},
     "output_type": "display_data"
    },
    {
     "data": {
      "image/png": "[encoded data removed]",
      "text/plain": [
       "<Figure size 864x576 with 2 Axes>"
      ]
     },
     "metadata": {},
     "output_type": "display_data"
    }
   ],
   "source": [
    "PDP('roads_length_100'),PDP('roads_length_25')"
   ]
  },
  {
   "cell_type": "code",
   "execution_count": 207,
   "metadata": {},
   "outputs": [
    {
     "data": {
      "text/plain": [
       "(None, None)"
      ]
     },
     "execution_count": 207,
     "metadata": {},
     "output_type": "execute_result"
    },
    {
     "data": {
      "image/png": "[encoded data removed]",
      "text/plain": [
       "<Figure size 864x576 with 2 Axes>"
      ]
     },
     "metadata": {},
     "output_type": "display_data"
    },
    {
     "data": {
      "image/png": "[encoded data removed]",
      "text/plain": [
       "<Figure size 864x576 with 2 Axes>"
      ]
     },
     "metadata": {},
     "output_type": "display_data"
    }
   ],
   "source": [
    "PDP('hdres_500'), PDP('hdres_100')"
   ]
  },
  {
   "cell_type": "markdown",
   "metadata": {},
   "source": [
    "#### Conclusion\n",
    "\n",
    "As we can see, contrary to what the confusion matrix, the spatial features with more influence on the prediction are (DESC):\n",
    "1. **\"major_roads_length_25\" & \"major_roads_length_500\"**\n",
    "1. **\"roads_length_100\" & \"roads_length_25\"**\n",
    "1. **\"hdres_500\" & \"hdres_100\"**"
   ]
  },
  {
   "cell_type": "markdown",
   "metadata": {},
   "source": [
    "As we saw before, the target variable \"value\" is not uniformly distributed and it's skewed towards the left . Therefore, we will try to use log to remove the skewness."
   ]
  },
  {
   "cell_type": "code",
   "execution_count": 144,
   "metadata": {
    "scrolled": true
   },
   "outputs": [
    {
     "data": {
      "text/plain": [
       "<matplotlib.axes._subplots.AxesSubplot at 0x2068019d048>"
      ]
     },
     "execution_count": 144,
     "metadata": {},
     "output_type": "execute_result"
    },
    {
     "data": {
      "image/png": "[encoded data removed]",
      "text/plain": [
       "<Figure size 432x288 with 1 Axes>"
      ]
     },
     "metadata": {},
     "output_type": "display_data"
    }
   ],
   "source": [
    "(np.log(data[\"value\"])).hist(bins = 40, color='r')"
   ]
  },
  {
   "cell_type": "markdown",
   "metadata": {},
   "source": [
    "It appears that adding the logarithm has made the target **value** more normally distributed. Machine Learning models tend to work much better with normally distributed targets, rather than greatly skewed targets. By transforming the values, we can improve the performance later."
   ]
  },
  {
   "cell_type": "code",
   "execution_count": 323,
   "metadata": {
    "scrolled": false
   },
   "outputs": [
    {
     "data": {
      "text/html": [
       "<div>\n",
       "<style scoped>\n",
       "    .dataframe tbody tr th:only-of-type {\n",
       "        vertical-align: middle;\n",
       "    }\n",
       "\n",
       "    .dataframe tbody tr th {\n",
       "        vertical-align: top;\n",
       "    }\n",
       "\n",
       "    .dataframe thead th {\n",
       "        text-align: right;\n",
       "    }\n",
       "</style>\n",
       "<table border=\"1\" class=\"dataframe\">\n",
       "  <thead>\n",
       "    <tr style=\"text-align: right;\">\n",
       "      <th></th>\n",
       "      <th>ID</th>\n",
       "      <th>station_id</th>\n",
       "      <th>hdres_100</th>\n",
       "      <th>hdres_500</th>\n",
       "      <th>ldres_100</th>\n",
       "      <th>ldres_500</th>\n",
       "      <th>industry_100</th>\n",
       "      <th>industry_500</th>\n",
       "      <th>urbgreen_100</th>\n",
       "      <th>urbgreen_500</th>\n",
       "      <th>...</th>\n",
       "      <th>value_2</th>\n",
       "      <th>value_3</th>\n",
       "      <th>value_4</th>\n",
       "      <th>value_5</th>\n",
       "      <th>value_6</th>\n",
       "      <th>value_7</th>\n",
       "      <th>value_8</th>\n",
       "      <th>value_9</th>\n",
       "      <th>value</th>\n",
       "      <th>LogValue</th>\n",
       "    </tr>\n",
       "  </thead>\n",
       "  <tbody>\n",
       "    <tr>\n",
       "      <th>0</th>\n",
       "      <td>0</td>\n",
       "      <td>105</td>\n",
       "      <td>0.0</td>\n",
       "      <td>0.0</td>\n",
       "      <td>1.0</td>\n",
       "      <td>0.929</td>\n",
       "      <td>0.0</td>\n",
       "      <td>0.033</td>\n",
       "      <td>0.0</td>\n",
       "      <td>0.022</td>\n",
       "      <td>...</td>\n",
       "      <td>3.951243718581428</td>\n",
       "      <td>3.784189633918261</td>\n",
       "      <td>3.688879454113936</td>\n",
       "      <td>3.637586159726386</td>\n",
       "      <td>3.988984046564275</td>\n",
       "      <td>3.583518938456110</td>\n",
       "      <td>3.663561646129646</td>\n",
       "      <td>3.737669618283368</td>\n",
       "      <td>48.0</td>\n",
       "      <td>3.871201010907891</td>\n",
       "    </tr>\n",
       "    <tr>\n",
       "      <th>1</th>\n",
       "      <td>1</td>\n",
       "      <td>105</td>\n",
       "      <td>0.0</td>\n",
       "      <td>0.0</td>\n",
       "      <td>1.0</td>\n",
       "      <td>0.929</td>\n",
       "      <td>0.0</td>\n",
       "      <td>0.033</td>\n",
       "      <td>0.0</td>\n",
       "      <td>0.022</td>\n",
       "      <td>...</td>\n",
       "      <td>3.988984046564275</td>\n",
       "      <td>3.806662489770320</td>\n",
       "      <td>3.713572066704308</td>\n",
       "      <td>3.663561646129646</td>\n",
       "      <td>4.007333185232471</td>\n",
       "      <td>3.610917912644224</td>\n",
       "      <td>3.688879454113936</td>\n",
       "      <td>3.761200115693562</td>\n",
       "      <td>50.0</td>\n",
       "      <td>3.912023005428146</td>\n",
       "    </tr>\n",
       "    <tr>\n",
       "      <th>2</th>\n",
       "      <td>2</td>\n",
       "      <td>105</td>\n",
       "      <td>0.0</td>\n",
       "      <td>0.0</td>\n",
       "      <td>1.0</td>\n",
       "      <td>0.929</td>\n",
       "      <td>0.0</td>\n",
       "      <td>0.033</td>\n",
       "      <td>0.0</td>\n",
       "      <td>0.022</td>\n",
       "      <td>...</td>\n",
       "      <td>4.356708826689592</td>\n",
       "      <td>3.891820298110626</td>\n",
       "      <td>3.850147601710058</td>\n",
       "      <td>3.737669618283368</td>\n",
       "      <td>4.143134726391533</td>\n",
       "      <td>3.737669618283368</td>\n",
       "      <td>3.871201010907891</td>\n",
       "      <td>3.891820298110626</td>\n",
       "      <td>62.0</td>\n",
       "      <td>4.127134385045092</td>\n",
       "    </tr>\n",
       "    <tr>\n",
       "      <th>3</th>\n",
       "      <td>3</td>\n",
       "      <td>105</td>\n",
       "      <td>0.0</td>\n",
       "      <td>0.0</td>\n",
       "      <td>1.0</td>\n",
       "      <td>0.929</td>\n",
       "      <td>0.0</td>\n",
       "      <td>0.033</td>\n",
       "      <td>0.0</td>\n",
       "      <td>0.022</td>\n",
       "      <td>...</td>\n",
       "      <td>4.430816798843313</td>\n",
       "      <td>4.007333185232471</td>\n",
       "      <td>4.060443010546419</td>\n",
       "      <td>3.871201010907891</td>\n",
       "      <td>4.276666119016055</td>\n",
       "      <td>3.931825632724326</td>\n",
       "      <td>4.043051267834550</td>\n",
       "      <td>4.077537443905720</td>\n",
       "      <td>67.0</td>\n",
       "      <td>4.204692619390966</td>\n",
       "    </tr>\n",
       "    <tr>\n",
       "      <th>4</th>\n",
       "      <td>4</td>\n",
       "      <td>105</td>\n",
       "      <td>0.0</td>\n",
       "      <td>0.0</td>\n",
       "      <td>1.0</td>\n",
       "      <td>0.929</td>\n",
       "      <td>0.0</td>\n",
       "      <td>0.033</td>\n",
       "      <td>0.0</td>\n",
       "      <td>0.022</td>\n",
       "      <td>...</td>\n",
       "      <td>4.553876891600541</td>\n",
       "      <td>4.143134726391533</td>\n",
       "      <td>4.204692619390966</td>\n",
       "      <td>3.871201010907891</td>\n",
       "      <td>4.406719247264253</td>\n",
       "      <td>4.077537443905720</td>\n",
       "      <td>4.158883083359671</td>\n",
       "      <td>4.174387269895637</td>\n",
       "      <td>75.0</td>\n",
       "      <td>4.317488113536310</td>\n",
       "    </tr>\n",
       "  </tbody>\n",
       "</table>\n",
       "<p>5 rows × 38 columns</p>\n",
       "</div>"
      ],
      "text/plain": [
       "   ID  station_id  hdres_100  hdres_500  ldres_100  ldres_500  industry_100  \\\n",
       "0   0         105        0.0        0.0        1.0      0.929           0.0   \n",
       "1   1         105        0.0        0.0        1.0      0.929           0.0   \n",
       "2   2         105        0.0        0.0        1.0      0.929           0.0   \n",
       "3   3         105        0.0        0.0        1.0      0.929           0.0   \n",
       "4   4         105        0.0        0.0        1.0      0.929           0.0   \n",
       "\n",
       "   industry_500  urbgreen_100  urbgreen_500  ...            value_2  \\\n",
       "0         0.033           0.0         0.022  ...  3.951243718581428   \n",
       "1         0.033           0.0         0.022  ...  3.988984046564275   \n",
       "2         0.033           0.0         0.022  ...  4.356708826689592   \n",
       "3         0.033           0.0         0.022  ...  4.430816798843313   \n",
       "4         0.033           0.0         0.022  ...  4.553876891600541   \n",
       "\n",
       "             value_3            value_4            value_5            value_6  \\\n",
       "0  3.784189633918261  3.688879454113936  3.637586159726386  3.988984046564275   \n",
       "1  3.806662489770320  3.713572066704308  3.663561646129646  4.007333185232471   \n",
       "2  3.891820298110626  3.850147601710058  3.737669618283368  4.143134726391533   \n",
       "3  4.007333185232471  4.060443010546419  3.871201010907891  4.276666119016055   \n",
       "4  4.143134726391533  4.204692619390966  3.871201010907891  4.406719247264253   \n",
       "\n",
       "             value_7            value_8            value_9  value  \\\n",
       "0  3.583518938456110  3.663561646129646  3.737669618283368   48.0   \n",
       "1  3.610917912644224  3.688879454113936  3.761200115693562   50.0   \n",
       "2  3.737669618283368  3.871201010907891  3.891820298110626   62.0   \n",
       "3  3.931825632724326  4.043051267834550  4.077537443905720   67.0   \n",
       "4  4.077537443905720  4.158883083359671  4.174387269895637   75.0   \n",
       "\n",
       "            LogValue  \n",
       "0  3.871201010907891  \n",
       "1  3.912023005428146  \n",
       "2  4.127134385045092  \n",
       "3  4.204692619390966  \n",
       "4  4.317488113536310  \n",
       "\n",
       "[5 rows x 38 columns]"
      ]
     },
     "execution_count": 323,
     "metadata": {},
     "output_type": "execute_result"
    }
   ],
   "source": [
    "data[\"LogValue\"] = np.log(data[\"value\"])\n",
    "for i in cols:\n",
    "    data[i] = np.log(data[i])\n",
    "data.head()"
   ]
  },
  {
   "cell_type": "markdown",
   "metadata": {},
   "source": [
    "## Discover outliers with visualization tools\n",
    "#### Box plot :"
   ]
  },
  {
   "cell_type": "markdown",
   "metadata": {},
   "source": [
    "If there is an outlier it will plotted as point in boxplot but other population will be grouped together and display as boxes."
   ]
  },
  {
   "cell_type": "code",
   "execution_count": 294,
   "metadata": {},
   "outputs": [
    {
     "data": {
      "text/plain": [
       "<matplotlib.axes._subplots.AxesSubplot at 0x20683208c88>"
      ]
     },
     "execution_count": 294,
     "metadata": {},
     "output_type": "execute_result"
    },
    {
     "data": {
      "image/png": "[encoded data removed]",
      "text/plain": [
       "<Figure size 432x288 with 1 Axes>"
      ]
     },
     "metadata": {},
     "output_type": "display_data"
    }
   ],
   "source": [
    "sns.boxplot(x=data['LogValue'])"
   ]
  },
  {
   "cell_type": "code",
   "execution_count": 21,
   "metadata": {},
   "outputs": [
    {
     "data": {
      "text/plain": [
       "count    695255.000000000000000\n",
       "mean          2.904049758857589\n",
       "std           0.671904259356915\n",
       "min           0.693147180559945\n",
       "25%           2.484906649788000\n",
       "50%           2.901421594082750\n",
       "75%           3.332204510175204\n",
       "max           6.576469569048224\n",
       "Name: LogValue, dtype: float64"
      ]
     },
     "execution_count": 21,
     "metadata": {},
     "output_type": "execute_result"
    }
   ],
   "source": [
    "data.LogValue.describe()"
   ]
  },
  {
   "cell_type": "code",
   "execution_count": 295,
   "metadata": {},
   "outputs": [
    {
     "data": {
      "text/plain": [
       "(6559, 38)"
      ]
     },
     "execution_count": 295,
     "metadata": {},
     "output_type": "execute_result"
    }
   ],
   "source": [
    "data[data.LogValue < 0.6932].shape"
   ]
  },
  {
   "cell_type": "code",
   "execution_count": 300,
   "metadata": {},
   "outputs": [
    {
     "data": {
      "text/plain": [
       "(1889, 38)"
      ]
     },
     "execution_count": 300,
     "metadata": {},
     "output_type": "execute_result"
    }
   ],
   "source": [
    "data[data.LogValue > 5.01].shape"
   ]
  },
  {
   "cell_type": "code",
   "execution_count": 324,
   "metadata": {},
   "outputs": [],
   "source": [
    "#Removing outliers\n",
    "data = data[(data[\"LogValue\"] < 5.01) & (data[\"LogValue\"] > 0.6932)]"
   ]
  },
  {
   "cell_type": "markdown",
   "metadata": {},
   "source": [
    "<a id=\"5\"></a> \n",
    "## 5- Process : ML Models\n",
    "\n",
    "Now that we've explored the data, we can begin to build and test different models for regression to predict the Spatiotemporal PM10 concentration. In this challenge, we will use the R^2 score as well as the RMSLE to evaluate our model performance. We will also use cross validation to optimize our model hyperparameters.\n",
    "\n",
    "In this section we will use following model:\n",
    "1. Linear Regression\n",
    "1. Ridge Model\n",
    "1. Gradient Boosting Regression\n",
    "1. Random Forest Regression\n",
    "1. Xgboost\n",
    "1. LGBM Regressor"
   ]
  },
  {
   "cell_type": "code",
   "execution_count": 72,
   "metadata": {},
   "outputs": [],
   "source": [
    "#Importing all the librairies we'll need\n",
    "\n",
    "from sklearn.linear_model import LinearRegression\n",
    "from xgboost import XGBRegressor\n",
    "from lightgbm import LGBMRegressor\n",
    "from sklearn.linear_model import Ridge\n",
    "from sklearn.linear_model import Lasso\n",
    "from sklearn.ensemble import RandomForestRegressor\n",
    "from sklearn.metrics import r2_score, mean_squared_log_error\n",
    "from sklearn.model_selection import GridSearchCV\n",
    "from sklearn.model_selection import cross_val_score, KFold"
   ]
  },
  {
   "cell_type": "code",
   "execution_count": 73,
   "metadata": {},
   "outputs": [
    {
     "data": {
      "text/html": [
       "<div>\n",
       "<style scoped>\n",
       "    .dataframe tbody tr th:only-of-type {\n",
       "        vertical-align: middle;\n",
       "    }\n",
       "\n",
       "    .dataframe tbody tr th {\n",
       "        vertical-align: top;\n",
       "    }\n",
       "\n",
       "    .dataframe thead th {\n",
       "        text-align: right;\n",
       "    }\n",
       "</style>\n",
       "<table border=\"1\" class=\"dataframe\">\n",
       "  <thead>\n",
       "    <tr style=\"text-align: right;\">\n",
       "      <th></th>\n",
       "      <th>ID</th>\n",
       "      <th>station_id</th>\n",
       "      <th>hdres_100</th>\n",
       "      <th>hdres_500</th>\n",
       "      <th>ldres_100</th>\n",
       "      <th>ldres_500</th>\n",
       "      <th>industry_100</th>\n",
       "      <th>industry_500</th>\n",
       "      <th>urbgreen_100</th>\n",
       "      <th>urbgreen_500</th>\n",
       "      <th>...</th>\n",
       "      <th>value_2</th>\n",
       "      <th>value_3</th>\n",
       "      <th>value_4</th>\n",
       "      <th>value_5</th>\n",
       "      <th>value_6</th>\n",
       "      <th>value_7</th>\n",
       "      <th>value_8</th>\n",
       "      <th>value_9</th>\n",
       "      <th>value</th>\n",
       "      <th>LogValue</th>\n",
       "    </tr>\n",
       "  </thead>\n",
       "  <tbody>\n",
       "    <tr>\n",
       "      <th>0</th>\n",
       "      <td>0</td>\n",
       "      <td>105</td>\n",
       "      <td>0.0</td>\n",
       "      <td>0.0</td>\n",
       "      <td>1.0</td>\n",
       "      <td>0.929</td>\n",
       "      <td>0.0</td>\n",
       "      <td>0.033</td>\n",
       "      <td>0.0</td>\n",
       "      <td>0.022</td>\n",
       "      <td>...</td>\n",
       "      <td>3.951243718581428</td>\n",
       "      <td>3.784189633918261</td>\n",
       "      <td>3.688879454113936</td>\n",
       "      <td>3.637586159726386</td>\n",
       "      <td>3.988984046564275</td>\n",
       "      <td>3.583518938456110</td>\n",
       "      <td>3.663561646129646</td>\n",
       "      <td>3.737669618283368</td>\n",
       "      <td>48.0</td>\n",
       "      <td>3.871201010907891</td>\n",
       "    </tr>\n",
       "    <tr>\n",
       "      <th>1</th>\n",
       "      <td>1</td>\n",
       "      <td>105</td>\n",
       "      <td>0.0</td>\n",
       "      <td>0.0</td>\n",
       "      <td>1.0</td>\n",
       "      <td>0.929</td>\n",
       "      <td>0.0</td>\n",
       "      <td>0.033</td>\n",
       "      <td>0.0</td>\n",
       "      <td>0.022</td>\n",
       "      <td>...</td>\n",
       "      <td>3.988984046564275</td>\n",
       "      <td>3.806662489770320</td>\n",
       "      <td>3.713572066704308</td>\n",
       "      <td>3.663561646129646</td>\n",
       "      <td>4.007333185232471</td>\n",
       "      <td>3.610917912644224</td>\n",
       "      <td>3.688879454113936</td>\n",
       "      <td>3.761200115693562</td>\n",
       "      <td>50.0</td>\n",
       "      <td>3.912023005428146</td>\n",
       "    </tr>\n",
       "    <tr>\n",
       "      <th>2</th>\n",
       "      <td>2</td>\n",
       "      <td>105</td>\n",
       "      <td>0.0</td>\n",
       "      <td>0.0</td>\n",
       "      <td>1.0</td>\n",
       "      <td>0.929</td>\n",
       "      <td>0.0</td>\n",
       "      <td>0.033</td>\n",
       "      <td>0.0</td>\n",
       "      <td>0.022</td>\n",
       "      <td>...</td>\n",
       "      <td>4.356708826689592</td>\n",
       "      <td>3.891820298110626</td>\n",
       "      <td>3.850147601710058</td>\n",
       "      <td>3.737669618283368</td>\n",
       "      <td>4.143134726391533</td>\n",
       "      <td>3.737669618283368</td>\n",
       "      <td>3.871201010907891</td>\n",
       "      <td>3.891820298110626</td>\n",
       "      <td>62.0</td>\n",
       "      <td>4.127134385045092</td>\n",
       "    </tr>\n",
       "    <tr>\n",
       "      <th>3</th>\n",
       "      <td>3</td>\n",
       "      <td>105</td>\n",
       "      <td>0.0</td>\n",
       "      <td>0.0</td>\n",
       "      <td>1.0</td>\n",
       "      <td>0.929</td>\n",
       "      <td>0.0</td>\n",
       "      <td>0.033</td>\n",
       "      <td>0.0</td>\n",
       "      <td>0.022</td>\n",
       "      <td>...</td>\n",
       "      <td>4.430816798843313</td>\n",
       "      <td>4.007333185232471</td>\n",
       "      <td>4.060443010546419</td>\n",
       "      <td>3.871201010907891</td>\n",
       "      <td>4.276666119016055</td>\n",
       "      <td>3.931825632724326</td>\n",
       "      <td>4.043051267834550</td>\n",
       "      <td>4.077537443905720</td>\n",
       "      <td>67.0</td>\n",
       "      <td>4.204692619390966</td>\n",
       "    </tr>\n",
       "    <tr>\n",
       "      <th>4</th>\n",
       "      <td>4</td>\n",
       "      <td>105</td>\n",
       "      <td>0.0</td>\n",
       "      <td>0.0</td>\n",
       "      <td>1.0</td>\n",
       "      <td>0.929</td>\n",
       "      <td>0.0</td>\n",
       "      <td>0.033</td>\n",
       "      <td>0.0</td>\n",
       "      <td>0.022</td>\n",
       "      <td>...</td>\n",
       "      <td>4.553876891600541</td>\n",
       "      <td>4.143134726391533</td>\n",
       "      <td>4.204692619390966</td>\n",
       "      <td>3.871201010907891</td>\n",
       "      <td>4.406719247264253</td>\n",
       "      <td>4.077537443905720</td>\n",
       "      <td>4.158883083359671</td>\n",
       "      <td>4.174387269895637</td>\n",
       "      <td>75.0</td>\n",
       "      <td>4.317488113536310</td>\n",
       "    </tr>\n",
       "  </tbody>\n",
       "</table>\n",
       "<p>5 rows × 38 columns</p>\n",
       "</div>"
      ],
      "text/plain": [
       "   ID  station_id  hdres_100  hdres_500  ldres_100  ldres_500  industry_100  \\\n",
       "0   0         105        0.0        0.0        1.0      0.929           0.0   \n",
       "1   1         105        0.0        0.0        1.0      0.929           0.0   \n",
       "2   2         105        0.0        0.0        1.0      0.929           0.0   \n",
       "3   3         105        0.0        0.0        1.0      0.929           0.0   \n",
       "4   4         105        0.0        0.0        1.0      0.929           0.0   \n",
       "\n",
       "   industry_500  urbgreen_100  urbgreen_500  ...            value_2  \\\n",
       "0         0.033           0.0         0.022  ...  3.951243718581428   \n",
       "1         0.033           0.0         0.022  ...  3.988984046564275   \n",
       "2         0.033           0.0         0.022  ...  4.356708826689592   \n",
       "3         0.033           0.0         0.022  ...  4.430816798843313   \n",
       "4         0.033           0.0         0.022  ...  4.553876891600541   \n",
       "\n",
       "             value_3            value_4            value_5            value_6  \\\n",
       "0  3.784189633918261  3.688879454113936  3.637586159726386  3.988984046564275   \n",
       "1  3.806662489770320  3.713572066704308  3.663561646129646  4.007333185232471   \n",
       "2  3.891820298110626  3.850147601710058  3.737669618283368  4.143134726391533   \n",
       "3  4.007333185232471  4.060443010546419  3.871201010907891  4.276666119016055   \n",
       "4  4.143134726391533  4.204692619390966  3.871201010907891  4.406719247264253   \n",
       "\n",
       "             value_7            value_8            value_9  value  \\\n",
       "0  3.583518938456110  3.663561646129646  3.737669618283368   48.0   \n",
       "1  3.610917912644224  3.688879454113936  3.761200115693562   50.0   \n",
       "2  3.737669618283368  3.871201010907891  3.891820298110626   62.0   \n",
       "3  3.931825632724326  4.043051267834550  4.077537443905720   67.0   \n",
       "4  4.077537443905720  4.158883083359671  4.174387269895637   75.0   \n",
       "\n",
       "            LogValue  \n",
       "0  3.871201010907891  \n",
       "1  3.912023005428146  \n",
       "2  4.127134385045092  \n",
       "3  4.204692619390966  \n",
       "4  4.317488113536310  \n",
       "\n",
       "[5 rows x 38 columns]"
      ]
     },
     "execution_count": 73,
     "metadata": {},
     "output_type": "execute_result"
    }
   ],
   "source": [
    "data.head()"
   ]
  },
  {
   "cell_type": "markdown",
   "metadata": {},
   "source": [
    "### Defining Training/Test Sets\n",
    "\n",
    "We need to drop the \"ID\" and \"station_id\" column for the training set since those are not involved in predicting the value. We will also drop The \"value\" column from our training dataset and make LogValue our target instead. This will improve model performance and yield a much smaller RMSE because of the scale."
   ]
  },
  {
   "cell_type": "code",
   "execution_count": 325,
   "metadata": {},
   "outputs": [],
   "source": [
    "X_train = data.drop([\"ID\",\"station_id\",\"value\",\"LogValue\"], axis=1)\n",
    "y_train = data[\"LogValue\"]"
   ]
  },
  {
   "cell_type": "markdown",
   "metadata": {},
   "source": [
    "### Splitting into Validation\n",
    "\n",
    "Try to split our training data again into validation sets. This will help us evaluate our model performance and maybe avoid overfitting."
   ]
  },
  {
   "cell_type": "code",
   "execution_count": 76,
   "metadata": {},
   "outputs": [],
   "source": [
    "X_training, X_valid, y_training, y_valid = train_test_split(X_train, y_train, test_size=0.2, random_state=0) #X_valid and y_valid are the validation sets"
   ]
  },
  {
   "cell_type": "markdown",
   "metadata": {},
   "source": [
    "<a id=\"51\"></a> \n",
    "## 5-1 Linear Regression Model"
   ]
  },
  {
   "cell_type": "code",
   "execution_count": 71,
   "metadata": {},
   "outputs": [
    {
     "name": "stdout",
     "output_type": "stream",
     "text": [
      "LinearRegression(copy_X=True, fit_intercept=True, n_jobs=None,\n",
      "         normalize=False)\n"
     ]
    }
   ],
   "source": [
    "lm = LinearRegression()\n",
    "lm.fit(X_training,y_training)\n",
    "print(lm)"
   ]
  },
  {
   "cell_type": "markdown",
   "metadata": {},
   "source": [
    "**Model Evaluation**\n",
    "Let's evaluate the model by checking out it's coefficients and how we can interpret them."
   ]
  },
  {
   "cell_type": "code",
   "execution_count": 72,
   "metadata": {},
   "outputs": [
    {
     "name": "stdout",
     "output_type": "stream",
     "text": [
      "2.2240212\n"
     ]
    }
   ],
   "source": [
    "# print the intercept\n",
    "print(lm.intercept_)"
   ]
  },
  {
   "cell_type": "code",
   "execution_count": 73,
   "metadata": {},
   "outputs": [
    {
     "name": "stdout",
     "output_type": "stream",
     "text": [
      "[-0.0762  0.0311 -0.0009 -0.1135 -0.1011 -0.0446 -0.0077 -0.0327 -0.126\n",
      "  0.4908 -0.7398  0.3846 -0.9529  2.0528  0.0243 -0.0266 -0.0413  0.0324\n",
      " -0.0005  0.0002 -0.0043  0.0043  0.0088 -0.0088  0.0078  0.0044  0.0053\n",
      "  0.0051  0.0064  0.0023  0.0006  0.0011  0.0019  0.0017]\n"
     ]
    }
   ],
   "source": [
    "print(lm.coef_)"
   ]
  },
  {
   "cell_type": "markdown",
   "metadata": {},
   "source": [
    "**Predictions from our Model** "
   ]
  },
  {
   "cell_type": "code",
   "execution_count": 74,
   "metadata": {},
   "outputs": [
    {
     "name": "stdout",
     "output_type": "stream",
     "text": [
      "RMSLE: 1.6623523\n"
     ]
    }
   ],
   "source": [
    "predictions = lm.predict(X_valid)\n",
    "predictions= predictions.reshape(-1,1)\n",
    "submission_predictions = np.exp(predictions)\n",
    "#submission_predictions = np.fmax(0,predictions)\n",
    "print('RMSLE:', np.sqrt(mean_squared_log_error(y_valid, submission_predictions)))"
   ]
  },
  {
   "cell_type": "markdown",
   "metadata": {},
   "source": [
    "**Adding the GridSearchCV function**"
   ]
  },
  {
   "cell_type": "code",
   "execution_count": 77,
   "metadata": {},
   "outputs": [
    {
     "name": "stdout",
     "output_type": "stream",
     "text": [
      "Fitting 3 folds for each of 8 candidates, totalling 24 fits\n"
     ]
    },
    {
     "name": "stderr",
     "output_type": "stream",
     "text": [
      "[Parallel(n_jobs=1)]: Using backend SequentialBackend with 1 concurrent workers.\n",
      "[Parallel(n_jobs=1)]: Done  24 out of  24 | elapsed:   19.2s finished\n"
     ]
    },
    {
     "name": "stdout",
     "output_type": "stream",
     "text": [
      "Best LinReg Model: LinearRegression(copy_X=True, fit_intercept=True, n_jobs=None, normalize=True)\n",
      "Best Score: 0.6703804598657095\n"
     ]
    }
   ],
   "source": [
    "linreg = LinearRegression()\n",
    "parameters_lin = {\"fit_intercept\" : [True, False], \"normalize\" : [True, False], \"copy_X\" : [True, False]}\n",
    "grid_linreg = GridSearchCV(linreg, parameters_lin, verbose=1 , scoring = \"r2\")\n",
    "grid_linreg.fit(X_training, y_training)\n",
    "\n",
    "print(\"Best LinReg Model: \" + str(grid_linreg.best_estimator_))\n",
    "print(\"Best Score: \" + str(grid_linreg.best_score_))"
   ]
  },
  {
   "cell_type": "code",
   "execution_count": 78,
   "metadata": {
    "scrolled": true
   },
   "outputs": [
    {
     "name": "stdout",
     "output_type": "stream",
     "text": [
      "R^2 Score: 0.6680223189625655\n",
      "RMSLE Score: 0.1085081264711648\n"
     ]
    }
   ],
   "source": [
    "linreg = grid_linreg.best_estimator_\n",
    "linreg.fit(X_training, y_training)\n",
    "lin_pred = linreg.predict(X_valid)\n",
    "lin_pred = np.exp(lin_pred)\n",
    "r2_lin = r2_score(np.exp(y_valid), lin_pred)\n",
    "rmsle_lin = mean_squared_log_error(np.exp(y_valid), lin_pred)\n",
    "print(\"R^2 Score: \" + str(r2_lin))\n",
    "print(\"RMSLE Score: \" + str(rmsle_lin))"
   ]
  },
  {
   "cell_type": "code",
   "execution_count": 78,
   "metadata": {},
   "outputs": [
    {
     "name": "stdout",
     "output_type": "stream",
     "text": [
      "Cross Validation Score: -0.192431977391243\n"
     ]
    }
   ],
   "source": [
    "scores_lin = cross_val_score(linreg, X_training, y_training, cv=10, scoring=\"neg_mean_squared_error\")\n",
    "print(\"Cross Validation Score: \" + str(np.mean(scores_lin)))"
   ]
  },
  {
   "cell_type": "markdown",
   "metadata": {},
   "source": [
    "<a id=\"52\"></a> \n",
    "## 5-2 Ridge Model"
   ]
  },
  {
   "cell_type": "code",
   "execution_count": 79,
   "metadata": {},
   "outputs": [
    {
     "name": "stdout",
     "output_type": "stream",
     "text": [
      "Fitting 3 folds for each of 8 candidates, totalling 24 fits\n"
     ]
    },
    {
     "name": "stderr",
     "output_type": "stream",
     "text": [
      "[Parallel(n_jobs=1)]: Using backend SequentialBackend with 1 concurrent workers.\n",
      "[Parallel(n_jobs=1)]: Done  24 out of  24 | elapsed:   12.0s finished\n"
     ]
    },
    {
     "name": "stdout",
     "output_type": "stream",
     "text": [
      "Best Ridge Model: Ridge(alpha=1.0, copy_X=True, fit_intercept=True, max_iter=None,\n",
      "   normalize=False, random_state=None, solver='auto', tol=0.001)\n",
      "Best Score: 0.6703802548960225\n"
     ]
    }
   ],
   "source": [
    "ridge = Ridge()\n",
    "parameters_ridge = {\"fit_intercept\" : [True, False], \"normalize\" : [True, False], \"copy_X\" : [True, False], \"solver\" : [\"auto\"]}\n",
    "grid_ridge = GridSearchCV(ridge, parameters_ridge, verbose=1, scoring=\"r2\")\n",
    "grid_ridge.fit(X_training, y_training)\n",
    "\n",
    "print(\"Best Ridge Model: \" + str(grid_ridge.best_estimator_))\n",
    "print(\"Best Score: \" + str(grid_ridge.best_score_))"
   ]
  },
  {
   "cell_type": "code",
   "execution_count": 81,
   "metadata": {},
   "outputs": [
    {
     "name": "stdout",
     "output_type": "stream",
     "text": [
      "R^2 Score: 0.6680203052555913\n",
      "RMSLE Score: 0.10850817116295212\n"
     ]
    }
   ],
   "source": [
    "ridge = grid_ridge.best_estimator_\n",
    "ridge.fit(X_training, y_training)\n",
    "ridge_pred = ridge.predict(X_valid)\n",
    "ridge_pred = np.exp(ridge_pred)\n",
    "r2_ridge = r2_score(np.exp(y_valid), ridge_pred)\n",
    "rmsle_ridge = mean_squared_log_error(np.exp(y_valid), ridge_pred)\n",
    "print(\"R^2 Score: \" + str(r2_ridge))\n",
    "print(\"RMSLE Score: \" + str(rmsle_ridge))"
   ]
  },
  {
   "cell_type": "code",
   "execution_count": 67,
   "metadata": {
    "scrolled": true
   },
   "outputs": [
    {
     "name": "stdout",
     "output_type": "stream",
     "text": [
      "Cross Validation Score: -93.19259849303438\n"
     ]
    }
   ],
   "source": [
    "scores_ridge = cross_val_score(ridge, X_training, y_training, cv=10, scoring=\"neg_mean_squared_error\")\n",
    "print(\"Cross Validation Score: \" + str(np.mean(scores_ridge)))"
   ]
  },
  {
   "cell_type": "markdown",
   "metadata": {},
   "source": [
    "<a id=\"53\"></a> \n",
    "## 5-3 Lasso Model"
   ]
  },
  {
   "cell_type": "code",
   "execution_count": 85,
   "metadata": {},
   "outputs": [
    {
     "name": "stdout",
     "output_type": "stream",
     "text": [
      "R^2 Score: 0.6666227172339336\n",
      "RMSLE Score: 0.10914833317536912\n"
     ]
    }
   ],
   "source": [
    "lsr = Lasso(alpha=0.0002)\n",
    "lsr.fit(X_training, y_training)\n",
    "lsr_pred = lsr.predict(X_valid)\n",
    "lsr_pred = np.exp(lsr_pred)\n",
    "r2_lsr = r2_score(np.exp(y_valid), lsr_pred)\n",
    "rmsle_lsr = mean_squared_log_error(np.exp(y_valid), lsr_pred)\n",
    "print(\"R^2 Score: \" + str(r2_lsr))\n",
    "print(\"RMSLE Score: \" + str(rmsle_lsr))"
   ]
  },
  {
   "cell_type": "markdown",
   "metadata": {},
   "source": [
    "<a id=\"54\"></a> \n",
    "## 5-4 Gradient Boosting Regression"
   ]
  },
  {
   "cell_type": "code",
   "execution_count": 326,
   "metadata": {},
   "outputs": [],
   "source": [
    "params = {'n_estimators': 250, 'max_depth': 7, 'min_samples_split': 3,\n",
    "          'learning_rate': 0.1, 'loss': 'ls'}\n",
    "clf = ensemble.GradientBoostingRegressor(**params)\n",
    "\n",
    "clf.fit(X_training, y_training)"
   ]
  },
  {
   "cell_type": "code",
   "execution_count": 91,
   "metadata": {
    "scrolled": true
   },
   "outputs": [
    {
     "name": "stdout",
     "output_type": "stream",
     "text": [
      "R^2 Score: 0.762343809439461\n",
      "RMSLE Score: 0.0769244569091241\n"
     ]
    }
   ],
   "source": [
    "clf_pred=clf.predict(X_valid)\n",
    "clf_pred = np.exp(clf_pred)\n",
    "r2_clf = r2_score(np.exp(y_valid), clf_pred)\n",
    "rmsle_clf = mean_squared_log_error(np.exp(y_valid), clf_pred)\n",
    "print(\"R^2 Score: \" + str(r2_clf))\n",
    "print(\"RMSLE Score: \" + str(rmsle_clf))"
   ]
  },
  {
   "cell_type": "markdown",
   "metadata": {},
   "source": [
    "<a id=\"55\"></a> \n",
    "## 5-5 Random Forest Regression"
   ]
  },
  {
   "cell_type": "code",
   "execution_count": 200,
   "metadata": {},
   "outputs": [],
   "source": [
    "rfr = RandomForestRegressor(n_estimators = 30, criterion = \"mse\" , min_samples_split = 3, max_features = \"auto\")\n",
    "rfr.fit(X_training, y_training)"
   ]
  },
  {
   "cell_type": "code",
   "execution_count": 92,
   "metadata": {},
   "outputs": [
    {
     "name": "stdout",
     "output_type": "stream",
     "text": [
      "R^2 Score: 0.8090957331891531\n",
      "RMSLE Score: 0.06470246770779996\n"
     ]
    }
   ],
   "source": [
    "rf_pred = rfr.predict(X_valid)\n",
    "rf_pred = np.exp(rf_pred)\n",
    "r2_rf = r2_score(np.exp(y_valid), rf_pred)\n",
    "rmsle_rf = mean_squared_log_error(np.exp(y_valid), rf_pred)\n",
    "print(\"R^2 Score: \" + str(r2_rf))\n",
    "print(\"RMSLE Score: \" + str(rmsle_rf))"
   ]
  },
  {
   "cell_type": "markdown",
   "metadata": {},
   "source": [
    "<a id=\"56\"></a> \n",
    "## 5-6 Xgboost"
   ]
  },
  {
   "cell_type": "code",
   "execution_count": 199,
   "metadata": {},
   "outputs": [],
   "source": [
    "xgboost = XGBRegressor(learning_rate=0.1,n_estimators=800,\n",
    "                                     max_depth=5, min_child_weight=0,\n",
    "                                     gamma=0, subsample=0.7,\n",
    "                                     colsample_bytree=0.7,\n",
    "                                     objective='reg:linear', nthread=-1,\n",
    "                                     scale_pos_weight=1, seed=27,\n",
    "                                     reg_alpha=0.006)\n",
    "xgb = xgboost.fit(X_training, y_training)"
   ]
  },
  {
   "cell_type": "code",
   "execution_count": 99,
   "metadata": {},
   "outputs": [
    {
     "name": "stdout",
     "output_type": "stream",
     "text": [
      "R^2 Score: 0.7961735352066898\n",
      "RMSLE Score: 0.06747520280570679\n"
     ]
    }
   ],
   "source": [
    "xgb_pred = xgb.predict(X_valid)\n",
    "xgb_pred = np.exp(xgb_pred)\n",
    "r2_xgb = r2_score(np.exp(y_valid), xgb_pred)\n",
    "rmsle_xgb = mean_squared_log_error(np.exp(y_valid), xgb_pred)\n",
    "print(\"R^2 Score: \" + str(r2_xgb))\n",
    "print(\"RMSLE Score: \" + str(rmsle_xgb))"
   ]
  },
  {
   "cell_type": "markdown",
   "metadata": {},
   "source": [
    "<a id=\"57\"></a> \n",
    "## 5-7 LGBM Regressor"
   ]
  },
  {
   "cell_type": "code",
   "execution_count": 198,
   "metadata": {},
   "outputs": [],
   "source": [
    "lightgbm = LGBMRegressor(objective='regression', \n",
    "                                       num_leaves=6,\n",
    "                                       learning_rate=0.2, \n",
    "                                       n_estimators=1500,\n",
    "                                       max_bin=100, \n",
    "                                       bagging_fraction=0.75,\n",
    "                                       bagging_freq=5, \n",
    "                                       bagging_seed=7,\n",
    "                                       feature_fraction=0.2,\n",
    "                                       feature_fraction_seed=7,\n",
    "                                       verbose=-1,\n",
    "                                       )\n",
    "gbm = lightgbm.fit(X_training, y_training)"
   ]
  },
  {
   "cell_type": "code",
   "execution_count": 95,
   "metadata": {},
   "outputs": [
    {
     "name": "stdout",
     "output_type": "stream",
     "text": [
      "R^2 Score: 0.7867353935280927\n",
      "RMSLE Score: 0.07016181816209818\n"
     ]
    }
   ],
   "source": [
    "gbm_pred = gbm.predict(X_valid)\n",
    "gbm_pred = np.exp(gbm_pred)\n",
    "r2_gbm = r2_score(np.exp(y_valid), gbm_pred)\n",
    "rmsle_gbm = mean_squared_log_error(np.exp(y_valid), gbm_pred)\n",
    "print(\"R^2 Score: \" + str(r2_gbm))\n",
    "print(\"RMSLE Score: \" + str(rmsle_gbm))"
   ]
  },
  {
   "cell_type": "markdown",
   "metadata": {},
   "source": [
    "<a id=\"6\"></a>\n",
    "# 6. Model Comparison\n",
    "\n",
    "After applying different models and evaluating them, now we will use test data to predict the **value** with the most adequat one."
   ]
  },
  {
   "cell_type": "code",
   "execution_count": 138,
   "metadata": {
    "scrolled": true
   },
   "outputs": [
    {
     "name": "stdout",
     "output_type": "stream",
     "text": [
      "Sorted by RMSLE:\n"
     ]
    },
    {
     "data": {
      "text/html": [
       "<div>\n",
       "<style scoped>\n",
       "    .dataframe tbody tr th:only-of-type {\n",
       "        vertical-align: middle;\n",
       "    }\n",
       "\n",
       "    .dataframe tbody tr th {\n",
       "        vertical-align: top;\n",
       "    }\n",
       "\n",
       "    .dataframe thead th {\n",
       "        text-align: right;\n",
       "    }\n",
       "</style>\n",
       "<table border=\"1\" class=\"dataframe\">\n",
       "  <thead>\n",
       "    <tr style=\"text-align: right;\">\n",
       "      <th></th>\n",
       "      <th>Model</th>\n",
       "      <th>R Squared</th>\n",
       "      <th>RMSLE</th>\n",
       "    </tr>\n",
       "  </thead>\n",
       "  <tbody>\n",
       "    <tr>\n",
       "      <th>3</th>\n",
       "      <td>Random Forest Regressor</td>\n",
       "      <td>0.809</td>\n",
       "      <td>0.064702</td>\n",
       "    </tr>\n",
       "    <tr>\n",
       "      <th>5</th>\n",
       "      <td>XGBoost</td>\n",
       "      <td>0.796</td>\n",
       "      <td>0.067475</td>\n",
       "    </tr>\n",
       "    <tr>\n",
       "      <th>6</th>\n",
       "      <td>LGBM Regressor</td>\n",
       "      <td>0.786</td>\n",
       "      <td>0.070161</td>\n",
       "    </tr>\n",
       "    <tr>\n",
       "      <th>4</th>\n",
       "      <td>Gradient Boosting Regression</td>\n",
       "      <td>0.762</td>\n",
       "      <td>0.076924</td>\n",
       "    </tr>\n",
       "    <tr>\n",
       "      <th>0</th>\n",
       "      <td>Linear Regression</td>\n",
       "      <td>0.668</td>\n",
       "      <td>0.108508</td>\n",
       "    </tr>\n",
       "    <tr>\n",
       "      <th>1</th>\n",
       "      <td>Ridge</td>\n",
       "      <td>0.668</td>\n",
       "      <td>0.108508</td>\n",
       "    </tr>\n",
       "    <tr>\n",
       "      <th>2</th>\n",
       "      <td>Lasso</td>\n",
       "      <td>0.666</td>\n",
       "      <td>0.109148</td>\n",
       "    </tr>\n",
       "  </tbody>\n",
       "</table>\n",
       "</div>"
      ],
      "text/plain": [
       "                          Model R Squared     RMSLE\n",
       "3       Random Forest Regressor     0.809  0.064702\n",
       "5                       XGBoost     0.796  0.067475\n",
       "6                LGBM Regressor     0.786  0.070161\n",
       "4  Gradient Boosting Regression     0.762  0.076924\n",
       "0             Linear Regression     0.668  0.108508\n",
       "1                         Ridge     0.668  0.108508\n",
       "2                         Lasso     0.666  0.109148"
      ]
     },
     "execution_count": 138,
     "metadata": {},
     "output_type": "execute_result"
    }
   ],
   "source": [
    "model_performances = pd.DataFrame({\n",
    "    \"Model\" : [\"Linear Regression\", \"Ridge\", \"Lasso\",\"Random Forest Regressor\",\"Gradient Boosting Regression\",\"XGBoost\",\"LGBM Regressor\"],\n",
    "    \"R Squared\" : [str(r2_lin)[0:5], str(r2_ridge)[0:5],str(r2_lsr)[0:5], str(r2_rf)[0:5] , str(r2_clf)[0:5], str(r2_xgb)[0:5], str(r2_gbm)[0:5]],\n",
    "    \"RMSLE\" : [str(rmsle_lin)[0:8], str(rmsle_ridge)[0:8], str(rmsle_lsr)[0:8], str(rmsle_rf)[0:8], str(rmsle_clf)[0:8], str(rmsle_xgb)[0:8], str(rmsle_gbm)[0:8]]\n",
    "})\n",
    "model_performances.round(4)\n",
    "\n",
    "print(\"Sorted by RMSLE:\")\n",
    "model_performances.sort_values(by=\"RMSLE\")"
   ]
  },
  {
   "cell_type": "markdown",
   "metadata": {},
   "source": [
    "<a id=\"7\"></a>\n",
    "# 7. Blending + Submission"
   ]
  },
  {
   "cell_type": "markdown",
   "metadata": {},
   "source": [
    "All of the models individually achieved scores between 0.10 and 0.13, but when the predictions of those models are blended, they get about 0.090. That's because those models are actually overfitting to certain degree. They are very good at predicting a subset of values, and they fail at predicting the rest of the dataset. When their predictions are blended, those models complement each other."
   ]
  },
  {
   "cell_type": "markdown",
   "metadata": {},
   "source": [
    "### Fit on the train data"
   ]
  },
  {
   "cell_type": "code",
   "execution_count": 327,
   "metadata": {},
   "outputs": [
    {
     "name": "stdout",
     "output_type": "stream",
     "text": [
      "[01:01:29] WARNING: C:/Jenkins/workspace/xgboost-win64_release_0.90/src/objective/regression_obj.cu:152: reg:linear is now deprecated in favor of reg:squarederror.\n"
     ]
    }
   ],
   "source": [
    "linreg.fit(X_train, y_train)\n",
    "ridge.fit(X_train, y_train)\n",
    "clf.fit(X_train, y_train)\n",
    "rfr.fit(X_train, y_train)\n",
    "xgb = xgboost.fit(X_train, y_train)\n",
    "gbm = lightgbm.fit(X_train, y_train)"
   ]
  },
  {
   "cell_type": "code",
   "execution_count": 336,
   "metadata": {},
   "outputs": [],
   "source": [
    "def blend_models_predict(X):\n",
    "    return ((0.125 * linreg.predict(X)) + (0.125 * ridge.predict(X)) +(0.35 * clf.predict(X)) +\n",
    "            (0.125 * gbm.predict(X)) + (0.125 * rfr.predict(X)) + (0.15 * xgb.predict(X)))"
   ]
  },
  {
   "cell_type": "code",
   "execution_count": 305,
   "metadata": {},
   "outputs": [
    {
     "data": {
      "text/html": [
       "<div>\n",
       "<style scoped>\n",
       "    .dataframe tbody tr th:only-of-type {\n",
       "        vertical-align: middle;\n",
       "    }\n",
       "\n",
       "    .dataframe tbody tr th {\n",
       "        vertical-align: top;\n",
       "    }\n",
       "\n",
       "    .dataframe thead th {\n",
       "        text-align: right;\n",
       "    }\n",
       "</style>\n",
       "<table border=\"1\" class=\"dataframe\">\n",
       "  <thead>\n",
       "    <tr style=\"text-align: right;\">\n",
       "      <th></th>\n",
       "      <th>ID</th>\n",
       "      <th>station_id</th>\n",
       "      <th>hdres_100</th>\n",
       "      <th>hdres_500</th>\n",
       "      <th>ldres_100</th>\n",
       "      <th>ldres_500</th>\n",
       "      <th>industry_100</th>\n",
       "      <th>industry_500</th>\n",
       "      <th>urbgreen_100</th>\n",
       "      <th>urbgreen_500</th>\n",
       "      <th>...</th>\n",
       "      <th>value_0</th>\n",
       "      <th>value_1</th>\n",
       "      <th>value_2</th>\n",
       "      <th>value_3</th>\n",
       "      <th>value_4</th>\n",
       "      <th>value_5</th>\n",
       "      <th>value_6</th>\n",
       "      <th>value_7</th>\n",
       "      <th>value_8</th>\n",
       "      <th>value_9</th>\n",
       "    </tr>\n",
       "  </thead>\n",
       "  <tbody>\n",
       "    <tr>\n",
       "      <th>0</th>\n",
       "      <td>0</td>\n",
       "      <td>98</td>\n",
       "      <td>0.0</td>\n",
       "      <td>0.0</td>\n",
       "      <td>0.349</td>\n",
       "      <td>0.503</td>\n",
       "      <td>0.0</td>\n",
       "      <td>0.052</td>\n",
       "      <td>0.651</td>\n",
       "      <td>0.354</td>\n",
       "      <td>...</td>\n",
       "      <td>3.828641396489095</td>\n",
       "      <td>3.970291913552122</td>\n",
       "      <td>3.871201010907891</td>\n",
       "      <td>3.784189633918261</td>\n",
       "      <td>3.988984046564275</td>\n",
       "      <td>3.688879454113936</td>\n",
       "      <td>3.637586159726386</td>\n",
       "      <td>3.583518938456110</td>\n",
       "      <td>3.737669618283368</td>\n",
       "      <td>3.663561646129646</td>\n",
       "    </tr>\n",
       "    <tr>\n",
       "      <th>1</th>\n",
       "      <td>1</td>\n",
       "      <td>98</td>\n",
       "      <td>0.0</td>\n",
       "      <td>0.0</td>\n",
       "      <td>0.349</td>\n",
       "      <td>0.503</td>\n",
       "      <td>0.0</td>\n",
       "      <td>0.052</td>\n",
       "      <td>0.651</td>\n",
       "      <td>0.354</td>\n",
       "      <td>...</td>\n",
       "      <td>3.850147601710058</td>\n",
       "      <td>4.007333185232471</td>\n",
       "      <td>3.912023005428146</td>\n",
       "      <td>3.806662489770320</td>\n",
       "      <td>4.007333185232471</td>\n",
       "      <td>3.713572066704308</td>\n",
       "      <td>3.663561646129646</td>\n",
       "      <td>3.610917912644224</td>\n",
       "      <td>3.761200115693562</td>\n",
       "      <td>3.688879454113936</td>\n",
       "    </tr>\n",
       "    <tr>\n",
       "      <th>2</th>\n",
       "      <td>2</td>\n",
       "      <td>98</td>\n",
       "      <td>0.0</td>\n",
       "      <td>0.0</td>\n",
       "      <td>0.349</td>\n",
       "      <td>0.503</td>\n",
       "      <td>0.0</td>\n",
       "      <td>0.052</td>\n",
       "      <td>0.651</td>\n",
       "      <td>0.354</td>\n",
       "      <td>...</td>\n",
       "      <td>3.988984046564275</td>\n",
       "      <td>4.436751534363128</td>\n",
       "      <td>4.127134385045092</td>\n",
       "      <td>3.891820298110626</td>\n",
       "      <td>4.143134726391533</td>\n",
       "      <td>3.850147601710058</td>\n",
       "      <td>3.737669618283368</td>\n",
       "      <td>3.737669618283368</td>\n",
       "      <td>3.891820298110626</td>\n",
       "      <td>3.871201010907891</td>\n",
       "    </tr>\n",
       "    <tr>\n",
       "      <th>3</th>\n",
       "      <td>3</td>\n",
       "      <td>98</td>\n",
       "      <td>0.0</td>\n",
       "      <td>0.0</td>\n",
       "      <td>0.349</td>\n",
       "      <td>0.503</td>\n",
       "      <td>0.0</td>\n",
       "      <td>0.052</td>\n",
       "      <td>0.651</td>\n",
       "      <td>0.354</td>\n",
       "      <td>...</td>\n",
       "      <td>4.077537443905720</td>\n",
       "      <td>4.574710978503383</td>\n",
       "      <td>4.204692619390966</td>\n",
       "      <td>4.007333185232471</td>\n",
       "      <td>4.276666119016055</td>\n",
       "      <td>4.060443010546419</td>\n",
       "      <td>3.871201010907891</td>\n",
       "      <td>3.931825632724326</td>\n",
       "      <td>4.077537443905720</td>\n",
       "      <td>4.043051267834550</td>\n",
       "    </tr>\n",
       "    <tr>\n",
       "      <th>4</th>\n",
       "      <td>4</td>\n",
       "      <td>98</td>\n",
       "      <td>0.0</td>\n",
       "      <td>0.0</td>\n",
       "      <td>0.349</td>\n",
       "      <td>0.503</td>\n",
       "      <td>0.0</td>\n",
       "      <td>0.052</td>\n",
       "      <td>0.651</td>\n",
       "      <td>0.354</td>\n",
       "      <td>...</td>\n",
       "      <td>4.204692619390966</td>\n",
       "      <td>4.595119850134590</td>\n",
       "      <td>4.317488113536310</td>\n",
       "      <td>4.143134726391533</td>\n",
       "      <td>4.406719247264253</td>\n",
       "      <td>4.204692619390966</td>\n",
       "      <td>3.871201010907891</td>\n",
       "      <td>4.077537443905720</td>\n",
       "      <td>4.174387269895637</td>\n",
       "      <td>4.158883083359671</td>\n",
       "    </tr>\n",
       "  </tbody>\n",
       "</table>\n",
       "<p>5 rows × 36 columns</p>\n",
       "</div>"
      ],
      "text/plain": [
       "   ID  station_id  hdres_100  hdres_500  ldres_100  ldres_500  industry_100  \\\n",
       "0   0          98        0.0        0.0      0.349      0.503           0.0   \n",
       "1   1          98        0.0        0.0      0.349      0.503           0.0   \n",
       "2   2          98        0.0        0.0      0.349      0.503           0.0   \n",
       "3   3          98        0.0        0.0      0.349      0.503           0.0   \n",
       "4   4          98        0.0        0.0      0.349      0.503           0.0   \n",
       "\n",
       "   industry_500  urbgreen_100  urbgreen_500  ...            value_0  \\\n",
       "0         0.052         0.651         0.354  ...  3.828641396489095   \n",
       "1         0.052         0.651         0.354  ...  3.850147601710058   \n",
       "2         0.052         0.651         0.354  ...  3.988984046564275   \n",
       "3         0.052         0.651         0.354  ...  4.077537443905720   \n",
       "4         0.052         0.651         0.354  ...  4.204692619390966   \n",
       "\n",
       "             value_1            value_2            value_3            value_4  \\\n",
       "0  3.970291913552122  3.871201010907891  3.784189633918261  3.988984046564275   \n",
       "1  4.007333185232471  3.912023005428146  3.806662489770320  4.007333185232471   \n",
       "2  4.436751534363128  4.127134385045092  3.891820298110626  4.143134726391533   \n",
       "3  4.574710978503383  4.204692619390966  4.007333185232471  4.276666119016055   \n",
       "4  4.595119850134590  4.317488113536310  4.143134726391533  4.406719247264253   \n",
       "\n",
       "             value_5            value_6            value_7            value_8  \\\n",
       "0  3.688879454113936  3.637586159726386  3.583518938456110  3.737669618283368   \n",
       "1  3.713572066704308  3.663561646129646  3.610917912644224  3.761200115693562   \n",
       "2  3.850147601710058  3.737669618283368  3.737669618283368  3.891820298110626   \n",
       "3  4.060443010546419  3.871201010907891  3.931825632724326  4.077537443905720   \n",
       "4  4.204692619390966  3.871201010907891  4.077537443905720  4.174387269895637   \n",
       "\n",
       "             value_9  \n",
       "0  3.663561646129646  \n",
       "1  3.688879454113936  \n",
       "2  3.871201010907891  \n",
       "3  4.043051267834550  \n",
       "4  4.158883083359671  \n",
       "\n",
       "[5 rows x 36 columns]"
      ]
     },
     "execution_count": 305,
     "metadata": {},
     "output_type": "execute_result"
    }
   ],
   "source": [
    "for i in cols:\n",
    "    data_test[i] = np.log(data_test[i])\n",
    "data_test.head()"
   ]
  },
  {
   "cell_type": "code",
   "execution_count": 337,
   "metadata": {
    "scrolled": true
   },
   "outputs": [
    {
     "name": "stdout",
     "output_type": "stream",
     "text": [
      "[41.6184 42.1613 49.6709 ...  8.1283 10.1348 17.6347]\n"
     ]
    }
   ],
   "source": [
    "submission_predictions = blend_models_predict(data_test.drop([\"ID\",\"station_id\"], axis=1))\n",
    "submission_predictions = np.exp(submission_predictions)\n",
    "print(submission_predictions)"
   ]
  },
  {
   "cell_type": "code",
   "execution_count": 338,
   "metadata": {},
   "outputs": [],
   "source": [
    "#predicted_vals1=np.fmax(submission_predictions,0)\n",
    "pd.DataFrame(submission_predictions).to_csv('submissionremov44.csv') "
   ]
  }
 ],
 "metadata": {
  "kernelspec": {
   "display_name": "Python 3",
   "language": "python",
   "name": "python3"
  },
  "language_info": {
   "codemirror_mode": {
    "name": "ipython",
    "version": 3
   },
   "file_extension": ".py",
   "mimetype": "text/x-python",
   "name": "python",
   "nbconvert_exporter": "python",
   "pygments_lexer": "ipython3",
   "version": "3.7.3"
  }
 },
 "nbformat": 4,
 "nbformat_minor": 2
}
